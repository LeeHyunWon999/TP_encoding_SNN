{
 "cells": [
  {
   "cell_type": "markdown",
   "metadata": {},
   "source": [
    "# keras conversion code\n",
    "\n",
    "SNN 모델을 저장하되, IF 레이어는 ReLU로 바꿔서 저장하도록 한다. 대신 IF 레이어의 설정값은 따로 찍어서 보내기.\n",
    "pth_to_h5_my_version의 filter CNN 버전, 인코더가 내부에 들어가있으므로 그 이후의 모델 가중치를 따로 저장할 수 있도록 한다.\n",
    "\n",
    "**주의점 : keras version 2.11이 들어간 환경에서 실행할 것! (KIST의 Neu+ 칩 구동환경과 일치시켜야 함)**"
   ]
  },
  {
   "cell_type": "code",
   "execution_count": 1,
   "metadata": {},
   "outputs": [],
   "source": [
    "# path = '/data/hongwonseok/ECG-SNN/KIST/MLP/MLP_binary_NO_BatchNorm.pth'\n",
    "\n",
    "path = '/home/hschoi/data/leehyunwon/ECG-SNN/SNN_MLP_ver5_filter_CNN_LIF_ablation_weight_init_binary_channel1000_hidden1000_encoderGradTrue_early25_lr0.001_threshold1.0_2024_11_11_11_52_15_lastEpoch.pt'\n",
    " \n",
    " "
   ]
  },
  {
   "cell_type": "code",
   "execution_count": 2,
   "metadata": {},
   "outputs": [
    {
     "name": "stderr",
     "output_type": "stream",
     "text": [
      "/tmp/ipykernel_2651681/3090495766.py:3: FutureWarning: You are using `torch.load` with `weights_only=False` (the current default value), which uses the default pickle module implicitly. It is possible to construct malicious pickle data which will execute arbitrary code during unpickling (See https://github.com/pytorch/pytorch/blob/main/SECURITY.md#untrusted-models for more details). In a future release, the default value for `weights_only` will be flipped to `True`. This limits the functions that could be executed during unpickling. Arbitrary objects will no longer be allowed to be loaded via this mode unless they are explicitly allowlisted by the user via `torch.serialization.add_safe_globals`. We recommend you start setting `weights_only=True` for any use case where you don't have full control of the loaded file. Please open an issue on GitHub for any issues related to this experimental feature.\n",
      "  model = torch.load(path)\n"
     ]
    },
    {
     "data": {
      "text/plain": [
       "{'epoch': 249,\n",
       " 'model_state_dict': OrderedDict([('cnn_encoders.weight',\n",
       "               tensor([[[ -6.6988,  -3.2723,   1.4812,  ...,   0.3608,   0.4828,  -0.1019]],\n",
       "               \n",
       "                       [[ -9.0390,  -5.7666,   1.2956,  ...,   2.4068,   2.6048,   2.8737]],\n",
       "               \n",
       "                       [[-10.3397,  -5.9206,   2.0368,  ...,  -0.0685,  -0.6201,  -0.6702]],\n",
       "               \n",
       "                       ...,\n",
       "               \n",
       "                       [[ -0.7435,  -0.4207,   0.5492,  ...,   0.1711,   0.4541,   0.8633]],\n",
       "               \n",
       "                       [[ -0.5788,  -0.4732,  -0.3784,  ...,  -0.2369,   0.3747,   0.8590]],\n",
       "               \n",
       "                       [[-13.3921,  -9.0632,   4.5970,  ...,   1.1204,   1.1451,   1.3430]]],\n",
       "                      device='cuda:0')),\n",
       "              ('hidden.0.weight',\n",
       "               tensor([[-0.1304,  0.2847, -0.2374,  ...,  0.1911, -0.1877,  0.5221],\n",
       "                       [ 0.1456,  0.9895, -0.0807,  ...,  0.1604,  0.1855,  0.2420],\n",
       "                       [ 0.1176,  0.2482,  0.0012,  ..., -0.4909, -0.2995,  0.5557],\n",
       "                       ...,\n",
       "                       [ 0.0585,  0.8620,  0.0345,  ..., -0.1957,  0.0253,  0.0153],\n",
       "                       [ 0.5951,  0.9446,  0.1954,  ..., -0.2470,  0.5989,  0.7700],\n",
       "                       [ 0.5109,  0.2579,  0.5723,  ...,  0.0122,  0.3761, -0.4312]],\n",
       "                      device='cuda:0')),\n",
       "              ('layer.0.weight',\n",
       "               tensor([[ 0.8294,  0.2679, -0.1859,  ...,  0.3260,  0.3875, -1.8149],\n",
       "                       [-0.4584, -0.0963,  0.3782,  ..., -0.1286, -0.6474,  1.0545]],\n",
       "                      device='cuda:0'))]),\n",
       " 'optimizer_state_dict': {'state': {0: {'step': tensor(85500.),\n",
       "    'exp_avg': tensor([[[ 4.4081e-06,  2.4041e-06,  8.1753e-08,  ..., -6.1683e-06,\n",
       "              -2.6504e-06,  1.0752e-06]],\n",
       "    \n",
       "            [[ 8.5202e-06,  5.8709e-06,  4.4137e-06,  ..., -1.3421e-06,\n",
       "              -1.3882e-06, -1.1914e-06]],\n",
       "    \n",
       "            [[ 1.5314e-05,  9.9029e-06,  6.5112e-06,  ...,  1.9289e-08,\n",
       "              -1.4165e-06,  2.6263e-06]],\n",
       "    \n",
       "            ...,\n",
       "    \n",
       "            [[-5.2758e-05, -6.8219e-05, -8.0375e-05,  ..., -7.6907e-05,\n",
       "              -6.8302e-05, -7.5731e-05]],\n",
       "    \n",
       "            [[ 9.1304e-05,  8.4675e-05,  7.1912e-05,  ...,  4.8219e-05,\n",
       "               3.0177e-05,  2.0199e-05]],\n",
       "    \n",
       "            [[ 7.2980e-06,  4.2694e-06,  9.1947e-07,  ...,  3.4719e-06,\n",
       "               3.5147e-06,  3.3856e-06]]], device='cuda:0'),\n",
       "    'exp_avg_sq': tensor([[[1.0785e-08, 1.0283e-08, 9.7207e-09,  ..., 8.5572e-09,\n",
       "              8.1943e-09, 8.1833e-09]],\n",
       "    \n",
       "            [[7.2865e-10, 5.3210e-10, 4.0078e-10,  ..., 2.3582e-11,\n",
       "              2.6123e-11, 2.7303e-11]],\n",
       "    \n",
       "            [[6.3339e-09, 5.9618e-09, 5.7183e-09,  ..., 7.0305e-09,\n",
       "              7.0185e-09, 6.7425e-09]],\n",
       "    \n",
       "            ...,\n",
       "    \n",
       "            [[1.3243e-07, 1.3121e-07, 1.2907e-07,  ..., 5.8488e-08,\n",
       "              5.5667e-08, 5.5635e-08]],\n",
       "    \n",
       "            [[8.1118e-08, 7.7694e-08, 7.4534e-08,  ..., 9.5978e-08,\n",
       "              9.8975e-08, 1.0126e-07]],\n",
       "    \n",
       "            [[5.4673e-10, 3.7678e-10, 2.7734e-10,  ..., 1.6155e-10,\n",
       "              1.6838e-10, 1.7248e-10]]], device='cuda:0')},\n",
       "   1: {'step': tensor(85500.),\n",
       "    'exp_avg': tensor([[-3.8007e-09, -5.0549e-09, -3.3587e-09,  ..., -3.9588e-09,\n",
       "             -7.1377e-10, -5.5918e-09],\n",
       "            [-1.3232e-09, -7.0924e-10, -1.1408e-09,  ..., -1.3987e-09,\n",
       "             -2.3929e-10, -2.0252e-09],\n",
       "            [-2.8494e-08,  1.9001e-06, -6.5995e-07,  ...,  2.3651e-07,\n",
       "              1.2881e-07,  7.1759e-07],\n",
       "            ...,\n",
       "            [-9.6853e-10, -1.1821e-09, -8.6037e-10,  ..., -9.6809e-10,\n",
       "             -1.7226e-10, -1.4400e-09],\n",
       "            [-1.7564e-10, -2.5917e-10, -1.5946e-10,  ..., -1.7911e-10,\n",
       "             -3.4569e-11, -2.5463e-10],\n",
       "            [ 4.1829e-05,  7.7587e-05,  4.8280e-05,  ...,  3.5887e-05,\n",
       "              9.7978e-06,  7.7039e-05]], device='cuda:0'),\n",
       "    'exp_avg_sq': tensor([[8.5594e-17, 1.8045e-16, 6.8954e-17,  ..., 1.1666e-16, 5.0255e-18,\n",
       "             1.6270e-16],\n",
       "            [1.0130e-17, 7.2973e-16, 8.2170e-18,  ..., 2.0555e-17, 5.7146e-19,\n",
       "             3.1213e-17],\n",
       "            [2.6429e-11, 1.6441e-10, 5.2150e-11,  ..., 4.7916e-11, 3.2176e-11,\n",
       "             1.2324e-10],\n",
       "            ...,\n",
       "            [5.6474e-18, 1.1611e-17, 4.5209e-18,  ..., 1.2175e-17, 3.2518e-19,\n",
       "             1.0401e-17],\n",
       "            [1.5311e-19, 3.2946e-19, 1.2605e-19,  ..., 1.6755e-19, 1.0062e-20,\n",
       "             3.0841e-19],\n",
       "            [5.3150e-08, 8.7091e-08, 4.7575e-08,  ..., 5.2488e-08, 3.6855e-09,\n",
       "             8.6072e-08]], device='cuda:0')},\n",
       "   2: {'step': tensor(85500.),\n",
       "    'exp_avg': tensor([[-0.0007, -0.0007, -0.0007,  ..., -0.0007, -0.0007, -0.0004],\n",
       "            [ 0.0011,  0.0011,  0.0011,  ...,  0.0011,  0.0011,  0.0004]],\n",
       "           device='cuda:0'),\n",
       "    'exp_avg_sq': tensor([[3.9696e-06, 3.9727e-06, 3.9079e-06,  ..., 3.9747e-06, 3.9954e-06,\n",
       "             1.5532e-06],\n",
       "            [5.0771e-06, 4.9863e-06, 4.7653e-06,  ..., 5.0846e-06, 5.1258e-06,\n",
       "             1.2750e-06]], device='cuda:0')}},\n",
       "  'param_groups': [{'lr': 0.0010000000000000397,\n",
       "    'betas': (0.9, 0.999),\n",
       "    'eps': 1e-08,\n",
       "    'weight_decay': 0,\n",
       "    'amsgrad': False,\n",
       "    'maximize': False,\n",
       "    'foreach': None,\n",
       "    'capturable': False,\n",
       "    'differentiable': False,\n",
       "    'fused': None,\n",
       "    'initial_lr': 0.001,\n",
       "    'params': [0, 1, 2]}]},\n",
       " 'loss': 0.1822635317549986}"
      ]
     },
     "execution_count": 2,
     "metadata": {},
     "output_type": "execute_result"
    }
   ],
   "source": [
    "import torch\n",
    "\n",
    "model = torch.load(path)\n",
    "model"
   ]
  },
  {
   "cell_type": "code",
   "execution_count": 3,
   "metadata": {},
   "outputs": [
    {
     "data": {
      "text/plain": [
       "OrderedDict([('cnn_encoders.weight',\n",
       "              tensor([[[ -6.6988,  -3.2723,   1.4812,  ...,   0.3608,   0.4828,  -0.1019]],\n",
       "              \n",
       "                      [[ -9.0390,  -5.7666,   1.2956,  ...,   2.4068,   2.6048,   2.8737]],\n",
       "              \n",
       "                      [[-10.3397,  -5.9206,   2.0368,  ...,  -0.0685,  -0.6201,  -0.6702]],\n",
       "              \n",
       "                      ...,\n",
       "              \n",
       "                      [[ -0.7435,  -0.4207,   0.5492,  ...,   0.1711,   0.4541,   0.8633]],\n",
       "              \n",
       "                      [[ -0.5788,  -0.4732,  -0.3784,  ...,  -0.2369,   0.3747,   0.8590]],\n",
       "              \n",
       "                      [[-13.3921,  -9.0632,   4.5970,  ...,   1.1204,   1.1451,   1.3430]]],\n",
       "                     device='cuda:0')),\n",
       "             ('hidden.0.weight',\n",
       "              tensor([[-0.1304,  0.2847, -0.2374,  ...,  0.1911, -0.1877,  0.5221],\n",
       "                      [ 0.1456,  0.9895, -0.0807,  ...,  0.1604,  0.1855,  0.2420],\n",
       "                      [ 0.1176,  0.2482,  0.0012,  ..., -0.4909, -0.2995,  0.5557],\n",
       "                      ...,\n",
       "                      [ 0.0585,  0.8620,  0.0345,  ..., -0.1957,  0.0253,  0.0153],\n",
       "                      [ 0.5951,  0.9446,  0.1954,  ..., -0.2470,  0.5989,  0.7700],\n",
       "                      [ 0.5109,  0.2579,  0.5723,  ...,  0.0122,  0.3761, -0.4312]],\n",
       "                     device='cuda:0')),\n",
       "             ('layer.0.weight',\n",
       "              tensor([[ 0.8294,  0.2679, -0.1859,  ...,  0.3260,  0.3875, -1.8149],\n",
       "                      [-0.4584, -0.0963,  0.3782,  ..., -0.1286, -0.6474,  1.0545]],\n",
       "                     device='cuda:0'))])"
      ]
     },
     "execution_count": 3,
     "metadata": {},
     "output_type": "execute_result"
    }
   ],
   "source": [
    "weight = model['model_state_dict']\n",
    "weight"
   ]
  },
  {
   "cell_type": "code",
   "execution_count": 4,
   "metadata": {},
   "outputs": [
    {
     "data": {
      "text/plain": [
       "odict_items([('cnn_encoders.weight', tensor([[[ -6.6988,  -3.2723,   1.4812,  ...,   0.3608,   0.4828,  -0.1019]],\n",
       "\n",
       "        [[ -9.0390,  -5.7666,   1.2956,  ...,   2.4068,   2.6048,   2.8737]],\n",
       "\n",
       "        [[-10.3397,  -5.9206,   2.0368,  ...,  -0.0685,  -0.6201,  -0.6702]],\n",
       "\n",
       "        ...,\n",
       "\n",
       "        [[ -0.7435,  -0.4207,   0.5492,  ...,   0.1711,   0.4541,   0.8633]],\n",
       "\n",
       "        [[ -0.5788,  -0.4732,  -0.3784,  ...,  -0.2369,   0.3747,   0.8590]],\n",
       "\n",
       "        [[-13.3921,  -9.0632,   4.5970,  ...,   1.1204,   1.1451,   1.3430]]],\n",
       "       device='cuda:0')), ('hidden.0.weight', tensor([[-0.1304,  0.2847, -0.2374,  ...,  0.1911, -0.1877,  0.5221],\n",
       "        [ 0.1456,  0.9895, -0.0807,  ...,  0.1604,  0.1855,  0.2420],\n",
       "        [ 0.1176,  0.2482,  0.0012,  ..., -0.4909, -0.2995,  0.5557],\n",
       "        ...,\n",
       "        [ 0.0585,  0.8620,  0.0345,  ..., -0.1957,  0.0253,  0.0153],\n",
       "        [ 0.5951,  0.9446,  0.1954,  ..., -0.2470,  0.5989,  0.7700],\n",
       "        [ 0.5109,  0.2579,  0.5723,  ...,  0.0122,  0.3761, -0.4312]],\n",
       "       device='cuda:0')), ('layer.0.weight', tensor([[ 0.8294,  0.2679, -0.1859,  ...,  0.3260,  0.3875, -1.8149],\n",
       "        [-0.4584, -0.0963,  0.3782,  ..., -0.1286, -0.6474,  1.0545]],\n",
       "       device='cuda:0'))])"
      ]
     },
     "execution_count": 4,
     "metadata": {},
     "output_type": "execute_result"
    }
   ],
   "source": [
    "weight.items()"
   ]
  },
  {
   "cell_type": "markdown",
   "metadata": {},
   "source": [
    "### shape 확인\n",
    "filter CNN의 hidden 레이어가 어떻게 생겨먹었는지 알 필요가 있을 것이다. 첫 hidden 레이어의 입력 크기를 그에 맞춰야 하기 때문."
   ]
  },
  {
   "cell_type": "code",
   "execution_count": 5,
   "metadata": {},
   "outputs": [
    {
     "data": {
      "text/plain": [
       "(1000, 1000)"
      ]
     },
     "execution_count": 5,
     "metadata": {},
     "output_type": "execute_result"
    }
   ],
   "source": [
    "temp_weights = {k: v.cpu().numpy() for k, v in weight.items()}\n",
    "temp_weights['hidden.0.weight'].shape"
   ]
  },
  {
   "cell_type": "code",
   "execution_count": 6,
   "metadata": {},
   "outputs": [
    {
     "name": "stderr",
     "output_type": "stream",
     "text": [
      "2024-11-12 08:16:31.241022: I tensorflow/core/platform/cpu_feature_guard.cc:193] This TensorFlow binary is optimized with oneAPI Deep Neural Network Library (oneDNN) to use the following CPU instructions in performance-critical operations:  SSE4.1 SSE4.2 AVX AVX2 AVX512F AVX512_VNNI FMA\n",
      "To enable them in other operations, rebuild TensorFlow with the appropriate compiler flags.\n"
     ]
    }
   ],
   "source": [
    "import torch\n",
    "import torch.nn as nn\n",
    "import numpy as np\n",
    "import tensorflow as tf\n",
    "from tensorflow.keras.models import Sequential\n",
    "from tensorflow.keras.models import Model\n",
    "from tensorflow.keras.layers import Input, Dense, BatchNormalization, ReLU, Dropout, InputLayer\n",
    "from tensorflow.keras.layers import ZeroPadding1D, Conv1D, BatchNormalization, ReLU, AveragePooling1D, Flatten, Dense"
   ]
  },
  {
   "cell_type": "markdown",
   "metadata": {},
   "source": [
    "일단 GPT에게 변환 코드 예시를 받아놨으니 그걸로 진행해보자.\n",
    "\n",
    "**KIST용으로 바꿀 땐 hidden layer 뉴런 수가 1000개 임에 주의!!!!**"
   ]
  },
  {
   "cell_type": "code",
   "execution_count": 7,
   "metadata": {},
   "outputs": [
    {
     "name": "stdout",
     "output_type": "stream",
     "text": [
      "Model: \"model\"\n",
      "_________________________________________________________________\n",
      " Layer (type)                Output Shape              Param #   \n",
      "=================================================================\n",
      " input (InputLayer)          [(None, 1000)]            0         \n",
      "                                                                 \n",
      " hidden1 (Dense)             (None, 1000)              1000000   \n",
      "                                                                 \n",
      " relu1 (ReLU)                (None, 1000)              0         \n",
      "                                                                 \n",
      " output (Dense)              (None, 2)                 2000      \n",
      "                                                                 \n",
      " output_relu (ReLU)          (None, 2)                 0         \n",
      "                                                                 \n",
      "=================================================================\n",
      "Total params: 1,002,000\n",
      "Trainable params: 1,002,000\n",
      "Non-trainable params: 0\n",
      "_________________________________________________________________\n"
     ]
    },
    {
     "name": "stderr",
     "output_type": "stream",
     "text": [
      "2024-11-12 08:16:34.928292: I tensorflow/core/platform/cpu_feature_guard.cc:193] This TensorFlow binary is optimized with oneAPI Deep Neural Network Library (oneDNN) to use the following CPU instructions in performance-critical operations:  SSE4.1 SSE4.2 AVX AVX2 AVX512F AVX512_VNNI FMA\n",
      "To enable them in other operations, rebuild TensorFlow with the appropriate compiler flags.\n",
      "2024-11-12 08:16:34.930578: I tensorflow/core/common_runtime/process_util.cc:146] Creating new thread pool with default inter op setting: 2. Tune using inter_op_parallelism_threads for best performance.\n"
     ]
    }
   ],
   "source": [
    "import tensorflow as tf\n",
    "from tensorflow.keras.models import Model\n",
    "from tensorflow.keras.layers import Input, Dense, ReLU\n",
    "\n",
    "def create_keras_model_SNN(num_classes, num_encoders, hidden_size, hidden_size_2):\n",
    "    # 입력 레이어 정의\n",
    "    inputs = Input(shape=(num_encoders,), name='input')\n",
    "    \n",
    "    # 첫 번째 히든 레이어\n",
    "    x = Dense(hidden_size, use_bias=False, name='hidden1')(inputs)\n",
    "    x = ReLU(name='relu1')(x)\n",
    "    \n",
    "    # 히든레이어 하나만 써서 학습하는 모델로 변경\n",
    "    # # 두 번째 히든 레이어\n",
    "    # x = Dense(hidden_size_2, use_bias=False, name='hidden2')(x)\n",
    "    # x = ReLU(name='relu2')(x)\n",
    "    \n",
    "    # 출력 레이어\n",
    "    predictions = Dense(num_classes, use_bias=False, name='output')(x)\n",
    "    predictions = ReLU(name='output_relu')(predictions)  # IFNode를 ReLU로 치환\n",
    "\n",
    "    # 모델 생성\n",
    "    model = Model(inputs=inputs, outputs=predictions)\n",
    "    \n",
    "    return model\n",
    "\n",
    "# 모델 생성 예시\n",
    "keras_model = create_keras_model_SNN(num_classes=2, num_encoders=1000, hidden_size=1000, hidden_size_2=1000) # 필터 인코더 제외한 hidden의 시작 부분도 1000이다.\n",
    "\n",
    "# 모델 구조 확인\n",
    "keras_model.summary()"
   ]
  },
  {
   "cell_type": "code",
   "execution_count": 8,
   "metadata": {},
   "outputs": [
    {
     "name": "stdout",
     "output_type": "stream",
     "text": [
      "Layer: input\n",
      "Layer: hidden1\n",
      "[[-0.00044115  0.03068198 -0.05332463 ...  0.03378018 -0.05110667\n",
      "  -0.04837415]\n",
      " [-0.00038192 -0.0246243  -0.01204367 ... -0.03274874 -0.00484315\n",
      "   0.03266645]\n",
      " [ 0.01377982  0.02432926 -0.02053743 ... -0.03828922 -0.02196112\n",
      "   0.04151982]\n",
      " ...\n",
      " [ 0.02747145 -0.03478355  0.00878559 ...  0.01875885  0.01676546\n",
      "   0.02286661]\n",
      " [-0.02650424 -0.00889756 -0.03058531 ...  0.02580635 -0.0063328\n",
      "  -0.02362418]\n",
      " [ 0.05401528  0.00200902  0.01085368 ... -0.01477117  0.02773695\n",
      "  -0.04964579]]\n",
      "Layer: relu1\n",
      "Layer: output\n",
      "[[-0.07480581  0.07208787]\n",
      " [-0.05362697 -0.04346928]\n",
      " [-0.03762147 -0.02743839]\n",
      " ...\n",
      " [ 0.02356636 -0.064877  ]\n",
      " [ 0.02430151  0.00720013]\n",
      " [-0.06371028 -0.05139592]]\n",
      "Layer: output_relu\n"
     ]
    }
   ],
   "source": [
    "# keras 모델의 초기 가중치 확인\n",
    "for layer in keras_model.layers:\n",
    "    weights = layer.get_weights()\n",
    "    print(f\"Layer: {layer.name}\")\n",
    "    for temp_weight in weights:\n",
    "        print(temp_weight)"
   ]
  },
  {
   "cell_type": "markdown",
   "metadata": {},
   "source": [
    "가중치 추출하고 케라스 모델에 대입하기\n",
    "\n",
    "왜인진 모르겠지만 cuda 커널 이미지가 안맞는다 하다가 또 된다고 하다가 그런다. 일단 시도해서 될 때 계속 진행하도록 한다."
   ]
  },
  {
   "cell_type": "code",
   "execution_count": 10,
   "metadata": {},
   "outputs": [
    {
     "name": "stdout",
     "output_type": "stream",
     "text": [
      "2.4.1\n",
      "11.8\n",
      "True\n",
      "Model: \"model\"\n",
      "_________________________________________________________________\n",
      " Layer (type)                Output Shape              Param #   \n",
      "=================================================================\n",
      " input (InputLayer)          [(None, 1000)]            0         \n",
      "                                                                 \n",
      " hidden1 (Dense)             (None, 1000)              1000000   \n",
      "                                                                 \n",
      " relu1 (ReLU)                (None, 1000)              0         \n",
      "                                                                 \n",
      " output (Dense)              (None, 2)                 2000      \n",
      "                                                                 \n",
      " output_relu (ReLU)          (None, 2)                 0         \n",
      "                                                                 \n",
      "=================================================================\n",
      "Total params: 1,002,000\n",
      "Trainable params: 1,002,000\n",
      "Non-trainable params: 0\n",
      "_________________________________________________________________\n"
     ]
    }
   ],
   "source": [
    "import torch\n",
    "print(torch.__version__)  # PyTorch 버전 확인\n",
    "print(torch.version.cuda)  # CUDA 버전 확인\n",
    "print(torch.cuda.is_available())  # CUDA 사용 가능 여부 확인\n",
    "\n",
    "!export CUDA_LAUNCH_BLOCKING=1\n",
    "\n",
    "# PyTorch에서 가중치 추출 및 Keras에 적용\n",
    "pt_weights = {k: v.cpu().numpy() for k, v in weight.items()}\n",
    "\n",
    "# Keras 가중치 설정\n",
    "# pytorch의 모델 가중치는 (출력, 입력) 순서로 저장되고 케라스는 그 반대이므로 Transpose 필요\n",
    "keras_model.get_layer('hidden1').set_weights([pt_weights['hidden.0.weight'].T]) # bias 빼기!\n",
    "# keras_model.get_layer('hidden2').set_weights([pt_weights['hidden2.0.weight'].T]) # 레이어 1개만 사용하는 경우 빼야 함!\n",
    "keras_model.get_layer('output').set_weights([pt_weights['layer.0.weight'].T])\n",
    "\n",
    "# 잘 들어갔나 확인?\n",
    "keras_model.summary()"
   ]
  },
  {
   "cell_type": "code",
   "execution_count": 13,
   "metadata": {},
   "outputs": [
    {
     "name": "stdout",
     "output_type": "stream",
     "text": [
      "WARNING:tensorflow:Compiled the loaded model, but the compiled metrics have yet to be built. `model.compile_metrics` will be empty until you train or evaluate the model.\n"
     ]
    }
   ],
   "source": [
    "# 모델 저장\n",
    "keras_model.save('LIF_filterCNN_ablation_weight_init.h5')"
   ]
  },
  {
   "cell_type": "code",
   "execution_count": 14,
   "metadata": {},
   "outputs": [
    {
     "name": "stdout",
     "output_type": "stream",
     "text": [
      "Layer: input\n",
      "Layer: hidden1\n",
      "[[-0.13040909  0.14563677  0.117607   ...  0.05848186  0.59507823\n",
      "   0.5108767 ]\n",
      " [ 0.28471953  0.98949397  0.24820337 ...  0.86195636  0.9445971\n",
      "   0.2579162 ]\n",
      " [-0.23744306 -0.0806943   0.00123874 ...  0.03451198  0.19536163\n",
      "   0.57233155]\n",
      " ...\n",
      " [ 0.19113684  0.16040626 -0.49089724 ... -0.1957157  -0.24702348\n",
      "   0.01218933]\n",
      " [-0.18770476  0.1855291  -0.29947907 ...  0.02527157  0.59885985\n",
      "   0.37609816]\n",
      " [ 0.5220869   0.24198103  0.555721   ...  0.01534362  0.7699944\n",
      "  -0.43116167]]\n",
      "Layer: relu1\n",
      "Layer: output\n",
      "[[ 0.82940197 -0.45840245]\n",
      " [ 0.26786393 -0.09630455]\n",
      " [-0.18594608  0.37819773]\n",
      " ...\n",
      " [ 0.325958   -0.12864959]\n",
      " [ 0.38753286 -0.64735377]\n",
      " [-1.8149061   1.0544505 ]]\n",
      "Layer: output_relu\n"
     ]
    }
   ],
   "source": [
    "# 모델의 가중치 확인\n",
    "for layer in keras_model.layers:\n",
    "    weights = layer.get_weights()\n",
    "    print(f\"Layer: {layer.name}\")\n",
    "    for temp_weight in weights:\n",
    "        print(temp_weight)"
   ]
  },
  {
   "cell_type": "code",
   "execution_count": 15,
   "metadata": {},
   "outputs": [
    {
     "name": "stdout",
     "output_type": "stream",
     "text": [
      "WARNING:tensorflow:No training configuration found in the save file, so the model was *not* compiled. Compile it manually.\n"
     ]
    }
   ],
   "source": [
    "from tensorflow.keras.models import load_model\n",
    "\n",
    "# 저장된 모델 로드\n",
    "loaded_model = load_model('/home/hschoi/leehyunwon/ECG-SNN/to_keras_conversion/LIF_filterCNN_ablation_weight_init.h5')\n"
   ]
  },
  {
   "cell_type": "code",
   "execution_count": 17,
   "metadata": {},
   "outputs": [
    {
     "name": "stdout",
     "output_type": "stream",
     "text": [
      "Model: \"model\"\n",
      "_________________________________________________________________\n",
      " Layer (type)                Output Shape              Param #   \n",
      "=================================================================\n",
      " input (InputLayer)          [(None, 1000)]            0         \n",
      "                                                                 \n",
      " hidden1 (Dense)             (None, 1000)              1000000   \n",
      "                                                                 \n",
      " relu1 (ReLU)                (None, 1000)              0         \n",
      "                                                                 \n",
      " output (Dense)              (None, 2)                 2000      \n",
      "                                                                 \n",
      " output_relu (ReLU)          (None, 2)                 0         \n",
      "                                                                 \n",
      "=================================================================\n",
      "Total params: 1,002,000\n",
      "Trainable params: 1,002,000\n",
      "Non-trainable params: 0\n",
      "_________________________________________________________________\n"
     ]
    }
   ],
   "source": [
    "loaded_model.summary()"
   ]
  },
  {
   "cell_type": "code",
   "execution_count": 18,
   "metadata": {},
   "outputs": [
    {
     "name": "stdout",
     "output_type": "stream",
     "text": [
      "Layer: input\n",
      "Layer: hidden1\n",
      "[[-0.13040909  0.14563677  0.117607   ...  0.05848186  0.59507823\n",
      "   0.5108767 ]\n",
      " [ 0.28471953  0.98949397  0.24820337 ...  0.86195636  0.9445971\n",
      "   0.2579162 ]\n",
      " [-0.23744306 -0.0806943   0.00123874 ...  0.03451198  0.19536163\n",
      "   0.57233155]\n",
      " ...\n",
      " [ 0.19113684  0.16040626 -0.49089724 ... -0.1957157  -0.24702348\n",
      "   0.01218933]\n",
      " [-0.18770476  0.1855291  -0.29947907 ...  0.02527157  0.59885985\n",
      "   0.37609816]\n",
      " [ 0.5220869   0.24198103  0.555721   ...  0.01534362  0.7699944\n",
      "  -0.43116167]]\n",
      "Layer: relu1\n",
      "Layer: output\n",
      "[[ 0.82940197 -0.45840245]\n",
      " [ 0.26786393 -0.09630455]\n",
      " [-0.18594608  0.37819773]\n",
      " ...\n",
      " [ 0.325958   -0.12864959]\n",
      " [ 0.38753286 -0.64735377]\n",
      " [-1.8149061   1.0544505 ]]\n",
      "Layer: output_relu\n"
     ]
    }
   ],
   "source": [
    "# 로드된 모델의 가중치 확인\n",
    "for layer in loaded_model.layers:\n",
    "    weights = layer.get_weights()\n",
    "    print(f\"Layer: {layer.name}\")\n",
    "    for temp_weight in weights:\n",
    "        print(temp_weight)\n"
   ]
  }
 ],
 "metadata": {
  "kernelspec": {
   "display_name": "keras_conversion",
   "language": "python",
   "name": "python3"
  },
  "language_info": {
   "codemirror_mode": {
    "name": "ipython",
    "version": 3
   },
   "file_extension": ".py",
   "mimetype": "text/x-python",
   "name": "python",
   "nbconvert_exporter": "python",
   "pygments_lexer": "ipython3",
   "version": "3.8.18"
  }
 },
 "nbformat": 4,
 "nbformat_minor": 2
}
