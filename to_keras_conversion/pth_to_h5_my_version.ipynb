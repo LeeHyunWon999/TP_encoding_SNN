{
 "cells": [
  {
   "cell_type": "markdown",
   "metadata": {},
   "source": [
    "# keras conversion code\n",
    "\n",
    "SNN 모델을 저장하되, IF 레이어는 ReLU로 바꿔서 저장하도록 한다. 대신 IF 레이어의 설정값은 따로 찍어서 보내기.\n",
    "\n",
    "**주의점 : keras version 2.11이 들어간 환경에서 실행할 것! (KIST의 Neu+ 칩 구동환경과 일치시켜야 함)**"
   ]
  },
  {
   "cell_type": "code",
   "execution_count": 1,
   "metadata": {},
   "outputs": [],
   "source": [
    "# path = '/data/hongwonseok/ECG-SNN/KIST/MLP/MLP_binary_NO_BatchNorm.pth'\n",
    "\n",
    "path = '/home/hschoi/data/leehyunwon/ECG-SNN/SNN_MLP_ver5_LIF_poisson_binary_encoders187_hidden1000_encoderGradTrue_early30_lr0.001_threshold1.0_2024_10_10_15_50_39_lastEpoch.pt'\n",
    " \n",
    " "
   ]
  },
  {
   "cell_type": "code",
   "execution_count": 2,
   "metadata": {},
   "outputs": [
    {
     "name": "stderr",
     "output_type": "stream",
     "text": [
      "/tmp/ipykernel_1516302/3090495766.py:3: FutureWarning: You are using `torch.load` with `weights_only=False` (the current default value), which uses the default pickle module implicitly. It is possible to construct malicious pickle data which will execute arbitrary code during unpickling (See https://github.com/pytorch/pytorch/blob/main/SECURITY.md#untrusted-models for more details). In a future release, the default value for `weights_only` will be flipped to `True`. This limits the functions that could be executed during unpickling. Arbitrary objects will no longer be allowed to be loaded via this mode unless they are explicitly allowlisted by the user via `torch.serialization.add_safe_globals`. We recommend you start setting `weights_only=True` for any use case where you don't have full control of the loaded file. Please open an issue on GitHub for any issues related to this experimental feature.\n",
      "  model = torch.load(path)\n"
     ]
    },
    {
     "data": {
      "text/plain": [
       "{'epoch': 149,\n",
       " 'model_state_dict': OrderedDict([('hidden.0.weight',\n",
       "               tensor([[ 0.0555, -0.1945, -0.2699,  ..., -1.0527, -1.1112, -0.7610],\n",
       "                       [-0.6033, -0.1452,  0.2396,  ...,  0.0533,  0.0530,  0.2444],\n",
       "                       [ 0.1006, -0.1668,  0.1413,  ...,  0.3818,  0.2243,  0.1764],\n",
       "                       ...,\n",
       "                       [-0.2028,  0.0975,  0.2866,  ...,  0.0589, -0.1674,  0.0449],\n",
       "                       [-0.1642,  0.0153,  0.3809,  ..., -0.5676, -0.4606, -0.2609],\n",
       "                       [-0.2396, -0.4548, -0.2539,  ...,  0.1766, -0.1016, -0.5567]],\n",
       "                      device='cuda:0')),\n",
       "              ('layer.0.weight',\n",
       "               tensor([[ 1.2112, -2.4744,  0.1464,  ..., -0.8999, -1.1971,  0.3683],\n",
       "                       [-1.1157,  1.9436, -0.1470,  ...,  1.1870,  1.0709, -0.3810]],\n",
       "                      device='cuda:0'))]),\n",
       " 'optimizer_state_dict': {'state': {0: {'step': tensor(51300.),\n",
       "    'exp_avg': tensor([[ 6.7725e-05,  7.0287e-05,  2.4441e-05,  ...,  3.9471e-07,\n",
       "              3.4476e-07, -3.6492e-07],\n",
       "            [ 6.9165e-05,  3.8539e-05,  3.5687e-05,  ..., -4.2230e-06,\n",
       "             -3.4827e-06, -5.2618e-06],\n",
       "            [-5.4915e-05, -3.7534e-05, -2.2370e-05,  ...,  4.8619e-07,\n",
       "              1.5938e-07,  2.1443e-07],\n",
       "            ...,\n",
       "            [ 7.2307e-05,  3.7091e-05,  4.2258e-05,  ..., -5.8370e-08,\n",
       "             -3.6270e-07,  4.4448e-08],\n",
       "            [ 2.0396e-04,  1.5552e-04,  9.1127e-05,  ..., -7.1214e-09,\n",
       "             -2.6886e-08,  1.8755e-07],\n",
       "            [ 3.9765e-05,  4.4665e-05,  1.6695e-05,  ...,  1.1127e-07,\n",
       "              8.7993e-09, -1.4982e-07]], device='cuda:0'),\n",
       "    'exp_avg_sq': tensor([[8.6193e-07, 6.0612e-07, 1.9190e-07,  ..., 7.7112e-11, 7.2234e-11,\n",
       "             6.4156e-11],\n",
       "            [5.8401e-07, 4.5791e-07, 2.1404e-07,  ..., 8.3631e-10, 8.5439e-10,\n",
       "             9.1257e-10],\n",
       "            [2.0809e-08, 1.5198e-08, 4.6046e-09,  ..., 3.2823e-12, 7.9222e-12,\n",
       "             1.1314e-11],\n",
       "            ...,\n",
       "            [4.3651e-07, 3.5569e-07, 1.8923e-07,  ..., 1.5028e-11, 2.5634e-11,\n",
       "             4.4836e-11],\n",
       "            [6.4550e-07, 5.3280e-07, 2.6706e-07,  ..., 3.0657e-13, 3.8278e-13,\n",
       "             7.7535e-13],\n",
       "            [1.1759e-07, 8.8743e-08, 2.8999e-08,  ..., 2.4121e-12, 1.3850e-12,\n",
       "             1.0970e-12]], device='cuda:0')},\n",
       "   1: {'step': tensor(51300.),\n",
       "    'exp_avg': tensor([[-3.1234e-05,  4.4192e-06, -1.0774e-04,  ..., -1.1530e-05,\n",
       "             -4.7780e-05,  1.5786e-04],\n",
       "            [ 9.9258e-06, -1.3225e-05, -2.3072e-04,  ...,  8.7581e-06,\n",
       "              4.8250e-05, -3.2894e-04]], device='cuda:0'),\n",
       "    'exp_avg_sq': tensor([[1.9009e-08, 3.6775e-09, 3.4646e-06,  ..., 5.1858e-09, 1.9292e-08,\n",
       "             2.2566e-07],\n",
       "            [2.5966e-08, 2.3253e-09, 4.0023e-06,  ..., 3.7831e-09, 1.6474e-08,\n",
       "             3.2071e-07]], device='cuda:0')}},\n",
       "  'param_groups': [{'lr': 0.0010000000000000321,\n",
       "    'betas': (0.9, 0.999),\n",
       "    'eps': 1e-08,\n",
       "    'weight_decay': 0,\n",
       "    'amsgrad': False,\n",
       "    'maximize': False,\n",
       "    'foreach': None,\n",
       "    'capturable': False,\n",
       "    'differentiable': False,\n",
       "    'fused': None,\n",
       "    'initial_lr': 0.001,\n",
       "    'params': [0, 1]}]},\n",
       " 'loss': 0.041415830219493195}"
      ]
     },
     "execution_count": 2,
     "metadata": {},
     "output_type": "execute_result"
    }
   ],
   "source": [
    "import torch\n",
    "\n",
    "model = torch.load(path)\n",
    "model"
   ]
  },
  {
   "cell_type": "code",
   "execution_count": 3,
   "metadata": {},
   "outputs": [
    {
     "data": {
      "text/plain": [
       "OrderedDict([('hidden.0.weight',\n",
       "              tensor([[ 0.0555, -0.1945, -0.2699,  ..., -1.0527, -1.1112, -0.7610],\n",
       "                      [-0.6033, -0.1452,  0.2396,  ...,  0.0533,  0.0530,  0.2444],\n",
       "                      [ 0.1006, -0.1668,  0.1413,  ...,  0.3818,  0.2243,  0.1764],\n",
       "                      ...,\n",
       "                      [-0.2028,  0.0975,  0.2866,  ...,  0.0589, -0.1674,  0.0449],\n",
       "                      [-0.1642,  0.0153,  0.3809,  ..., -0.5676, -0.4606, -0.2609],\n",
       "                      [-0.2396, -0.4548, -0.2539,  ...,  0.1766, -0.1016, -0.5567]],\n",
       "                     device='cuda:0')),\n",
       "             ('layer.0.weight',\n",
       "              tensor([[ 1.2112, -2.4744,  0.1464,  ..., -0.8999, -1.1971,  0.3683],\n",
       "                      [-1.1157,  1.9436, -0.1470,  ...,  1.1870,  1.0709, -0.3810]],\n",
       "                     device='cuda:0'))])"
      ]
     },
     "execution_count": 3,
     "metadata": {},
     "output_type": "execute_result"
    }
   ],
   "source": [
    "weight = model['model_state_dict']\n",
    "weight"
   ]
  },
  {
   "cell_type": "code",
   "execution_count": 4,
   "metadata": {},
   "outputs": [
    {
     "data": {
      "text/plain": [
       "odict_items([('hidden.0.weight', tensor([[ 0.0555, -0.1945, -0.2699,  ..., -1.0527, -1.1112, -0.7610],\n",
       "        [-0.6033, -0.1452,  0.2396,  ...,  0.0533,  0.0530,  0.2444],\n",
       "        [ 0.1006, -0.1668,  0.1413,  ...,  0.3818,  0.2243,  0.1764],\n",
       "        ...,\n",
       "        [-0.2028,  0.0975,  0.2866,  ...,  0.0589, -0.1674,  0.0449],\n",
       "        [-0.1642,  0.0153,  0.3809,  ..., -0.5676, -0.4606, -0.2609],\n",
       "        [-0.2396, -0.4548, -0.2539,  ...,  0.1766, -0.1016, -0.5567]],\n",
       "       device='cuda:0')), ('layer.0.weight', tensor([[ 1.2112, -2.4744,  0.1464,  ..., -0.8999, -1.1971,  0.3683],\n",
       "        [-1.1157,  1.9436, -0.1470,  ...,  1.1870,  1.0709, -0.3810]],\n",
       "       device='cuda:0'))])"
      ]
     },
     "execution_count": 4,
     "metadata": {},
     "output_type": "execute_result"
    }
   ],
   "source": [
    "weight.items()"
   ]
  },
  {
   "cell_type": "code",
   "execution_count": 5,
   "metadata": {},
   "outputs": [
    {
     "name": "stderr",
     "output_type": "stream",
     "text": [
      "2024-10-14 06:38:48.000630: I tensorflow/core/platform/cpu_feature_guard.cc:193] This TensorFlow binary is optimized with oneAPI Deep Neural Network Library (oneDNN) to use the following CPU instructions in performance-critical operations:  SSE4.1 SSE4.2 AVX AVX2 AVX512F AVX512_VNNI FMA\n",
      "To enable them in other operations, rebuild TensorFlow with the appropriate compiler flags.\n"
     ]
    }
   ],
   "source": [
    "import torch\n",
    "import torch.nn as nn\n",
    "import numpy as np\n",
    "import tensorflow as tf\n",
    "from tensorflow.keras.models import Sequential\n",
    "from tensorflow.keras.models import Model\n",
    "from tensorflow.keras.layers import Input, Dense, BatchNormalization, ReLU, Dropout, InputLayer\n",
    "from tensorflow.keras.layers import ZeroPadding1D, Conv1D, BatchNormalization, ReLU, AveragePooling1D, Flatten, Dense"
   ]
  },
  {
   "cell_type": "markdown",
   "metadata": {},
   "source": [
    "일단 GPT에게 변환 코드 예시를 받아놨으니 그걸로 진행해보자.\n",
    "\n",
    "**KIST용으로 바꿀 땐 hidden layer 뉴런 수가 1000개 임에 주의!!!!**"
   ]
  },
  {
   "cell_type": "code",
   "execution_count": 6,
   "metadata": {},
   "outputs": [
    {
     "name": "stdout",
     "output_type": "stream",
     "text": [
      "Model: \"model\"\n",
      "_________________________________________________________________\n",
      " Layer (type)                Output Shape              Param #   \n",
      "=================================================================\n",
      " input (InputLayer)          [(None, 187)]             0         \n",
      "                                                                 \n",
      " hidden1 (Dense)             (None, 1000)              187000    \n",
      "                                                                 \n",
      " relu1 (ReLU)                (None, 1000)              0         \n",
      "                                                                 \n",
      " output (Dense)              (None, 2)                 2000      \n",
      "                                                                 \n",
      " output_relu (ReLU)          (None, 2)                 0         \n",
      "                                                                 \n",
      "=================================================================\n",
      "Total params: 189,000\n",
      "Trainable params: 189,000\n",
      "Non-trainable params: 0\n",
      "_________________________________________________________________\n"
     ]
    },
    {
     "name": "stderr",
     "output_type": "stream",
     "text": [
      "2024-10-14 06:38:51.759524: I tensorflow/core/platform/cpu_feature_guard.cc:193] This TensorFlow binary is optimized with oneAPI Deep Neural Network Library (oneDNN) to use the following CPU instructions in performance-critical operations:  SSE4.1 SSE4.2 AVX AVX2 AVX512F AVX512_VNNI FMA\n",
      "To enable them in other operations, rebuild TensorFlow with the appropriate compiler flags.\n",
      "2024-10-14 06:38:51.761451: I tensorflow/core/common_runtime/process_util.cc:146] Creating new thread pool with default inter op setting: 2. Tune using inter_op_parallelism_threads for best performance.\n"
     ]
    }
   ],
   "source": [
    "import tensorflow as tf\n",
    "from tensorflow.keras.models import Model\n",
    "from tensorflow.keras.layers import Input, Dense, ReLU\n",
    "\n",
    "def create_keras_model_SNN(num_classes, num_encoders, hidden_size, hidden_size_2):\n",
    "    # 입력 레이어 정의\n",
    "    inputs = Input(shape=(num_encoders,), name='input')\n",
    "    \n",
    "    # 첫 번째 히든 레이어\n",
    "    x = Dense(hidden_size, use_bias=False, name='hidden1')(inputs)\n",
    "    x = ReLU(name='relu1')(x)\n",
    "    \n",
    "    # 히든레이어 하나만 써서 학습하는 모델로 변경\n",
    "    # # 두 번째 히든 레이어\n",
    "    # x = Dense(hidden_size_2, use_bias=False, name='hidden2')(x)\n",
    "    # x = ReLU(name='relu2')(x)\n",
    "    \n",
    "    # 출력 레이어\n",
    "    predictions = Dense(num_classes, use_bias=False, name='output')(x)\n",
    "    predictions = ReLU(name='output_relu')(predictions)  # IFNode를 ReLU로 치환\n",
    "\n",
    "    # 모델 생성\n",
    "    model = Model(inputs=inputs, outputs=predictions)\n",
    "    \n",
    "    return model\n",
    "\n",
    "# 모델 생성 예시\n",
    "keras_model = create_keras_model_SNN(num_classes=2, num_encoders=187, hidden_size=1000, hidden_size_2=1000)\n",
    "\n",
    "# 모델 구조 확인\n",
    "keras_model.summary()"
   ]
  },
  {
   "cell_type": "code",
   "execution_count": 7,
   "metadata": {},
   "outputs": [
    {
     "name": "stdout",
     "output_type": "stream",
     "text": [
      "Layer: input\n",
      "Layer: hidden1\n",
      "[[-0.06594887  0.02362754 -0.04320738 ...  0.01735181 -0.0195576\n",
      "  -0.05716163]\n",
      " [-0.06967717  0.02906438  0.01611836 ...  0.06454928 -0.05455538\n",
      "  -0.0589961 ]\n",
      " [ 0.04759073  0.02531201 -0.04507742 ...  0.00087014 -0.033693\n",
      "   0.02122914]\n",
      " ...\n",
      " [-0.02675686 -0.00266955  0.01243763 ...  0.00312337 -0.03835884\n",
      "  -0.00937458]\n",
      " [ 0.03140049  0.06365955  0.0353533  ... -0.04931051  0.06389149\n",
      "  -0.06963926]\n",
      " [ 0.0035329  -0.02193116  0.05596375 ... -0.05815507 -0.02655634\n",
      "  -0.02050129]]\n",
      "Layer: relu1\n",
      "Layer: output\n",
      "[[ 0.05290559  0.00850834]\n",
      " [ 0.05321538  0.02485186]\n",
      " [-0.03884175 -0.06127483]\n",
      " ...\n",
      " [ 0.05455922  0.02856022]\n",
      " [ 0.00052556  0.03839688]\n",
      " [-0.03651633  0.04642548]]\n",
      "Layer: output_relu\n"
     ]
    }
   ],
   "source": [
    "# keras 모델의 초기 가중치 확인\n",
    "for layer in keras_model.layers:\n",
    "    weights = layer.get_weights()\n",
    "    print(f\"Layer: {layer.name}\")\n",
    "    for temp_weight in weights:\n",
    "        print(temp_weight)"
   ]
  },
  {
   "cell_type": "markdown",
   "metadata": {},
   "source": [
    "가중치 추출하고 케라스 모델에 대입하기\n",
    "\n",
    "왜인진 모르겠지만 cuda 커널 이미지가 안맞는다 하다가 또 된다고 하다가 그런다. 일단 시도해서 될 때 계속 진행하도록 한다."
   ]
  },
  {
   "cell_type": "code",
   "execution_count": 8,
   "metadata": {},
   "outputs": [
    {
     "name": "stdout",
     "output_type": "stream",
     "text": [
      "2.4.1\n",
      "11.8\n",
      "True\n",
      "Model: \"model\"\n",
      "_________________________________________________________________\n",
      " Layer (type)                Output Shape              Param #   \n",
      "=================================================================\n",
      " input (InputLayer)          [(None, 187)]             0         \n",
      "                                                                 \n",
      " hidden1 (Dense)             (None, 1000)              187000    \n",
      "                                                                 \n",
      " relu1 (ReLU)                (None, 1000)              0         \n",
      "                                                                 \n",
      " output (Dense)              (None, 2)                 2000      \n",
      "                                                                 \n",
      " output_relu (ReLU)          (None, 2)                 0         \n",
      "                                                                 \n",
      "=================================================================\n",
      "Total params: 189,000\n",
      "Trainable params: 189,000\n",
      "Non-trainable params: 0\n",
      "_________________________________________________________________\n"
     ]
    }
   ],
   "source": [
    "import torch\n",
    "print(torch.__version__)  # PyTorch 버전 확인\n",
    "print(torch.version.cuda)  # CUDA 버전 확인\n",
    "print(torch.cuda.is_available())  # CUDA 사용 가능 여부 확인\n",
    "\n",
    "!export CUDA_LAUNCH_BLOCKING=1\n",
    "\n",
    "# PyTorch에서 가중치 추출 및 Keras에 적용\n",
    "pt_weights = {k: v.cpu().numpy() for k, v in weight.items()}\n",
    "\n",
    "# Keras 가중치 설정\n",
    "# pytorch의 모델 가중치는 (출력, 입력) 순서로 저장되고 케라스는 그 반대이므로 Transpose 필요\n",
    "keras_model.get_layer('hidden1').set_weights([pt_weights['hidden.0.weight'].T]) # bias 빼기!\n",
    "# keras_model.get_layer('hidden2').set_weights([pt_weights['hidden2.0.weight'].T]) # 레이어 1개만 사용하는 경우 빼야 함!\n",
    "keras_model.get_layer('output').set_weights([pt_weights['layer.0.weight'].T])\n",
    "\n",
    "# 잘 들어갔나 확인?\n",
    "keras_model.summary()"
   ]
  },
  {
   "cell_type": "code",
   "execution_count": 9,
   "metadata": {},
   "outputs": [
    {
     "name": "stdout",
     "output_type": "stream",
     "text": [
      "WARNING:tensorflow:Compiled the loaded model, but the compiled metrics have yet to be built. `model.compile_metrics` will be empty until you train or evaluate the model.\n"
     ]
    }
   ],
   "source": [
    "# 모델 저장\n",
    "keras_model.save('poisson_1000_one_layer_LIF.h5')"
   ]
  },
  {
   "cell_type": "code",
   "execution_count": 10,
   "metadata": {},
   "outputs": [
    {
     "name": "stdout",
     "output_type": "stream",
     "text": [
      "Layer: input\n",
      "Layer: hidden1\n",
      "[[ 0.05554117 -0.60329217  0.10063299 ... -0.20282644 -0.1642053\n",
      "  -0.2395675 ]\n",
      " [-0.19448015 -0.1452338  -0.16681203 ...  0.09751602  0.01531125\n",
      "  -0.45479232]\n",
      " [-0.26989135  0.23955078  0.14125073 ...  0.2866377   0.38093516\n",
      "  -0.25388843]\n",
      " ...\n",
      " [-1.0526779   0.05328737  0.38182843 ...  0.05886592 -0.56763756\n",
      "   0.17660348]\n",
      " [-1.1112064   0.05303211  0.22429852 ... -0.16740501 -0.4606028\n",
      "  -0.10161023]\n",
      " [-0.7610172   0.24437033  0.17644587 ...  0.04491612 -0.26091087\n",
      "  -0.5566925 ]]\n",
      "Layer: relu1\n",
      "Layer: output\n",
      "[[ 1.2111725  -1.1156695 ]\n",
      " [-2.4743867   1.9436427 ]\n",
      " [ 0.1464121  -0.1469736 ]\n",
      " ...\n",
      " [-0.89987695  1.1870453 ]\n",
      " [-1.1970752   1.0709147 ]\n",
      " [ 0.36830744 -0.38104096]]\n",
      "Layer: output_relu\n"
     ]
    }
   ],
   "source": [
    "# 모델의 가중치 확인\n",
    "for layer in keras_model.layers:\n",
    "    weights = layer.get_weights()\n",
    "    print(f\"Layer: {layer.name}\")\n",
    "    for temp_weight in weights:\n",
    "        print(temp_weight)"
   ]
  },
  {
   "cell_type": "code",
   "execution_count": 11,
   "metadata": {},
   "outputs": [
    {
     "name": "stdout",
     "output_type": "stream",
     "text": [
      "WARNING:tensorflow:No training configuration found in the save file, so the model was *not* compiled. Compile it manually.\n"
     ]
    }
   ],
   "source": [
    "from tensorflow.keras.models import load_model\n",
    "\n",
    "# 저장된 모델 로드\n",
    "loaded_model = load_model('/home/hschoi/leehyunwon/ECG-SNN/to_keras_conversion/poisson_1000_one_layer_LIF.h5')\n"
   ]
  },
  {
   "cell_type": "code",
   "execution_count": 12,
   "metadata": {},
   "outputs": [
    {
     "name": "stdout",
     "output_type": "stream",
     "text": [
      "Model: \"model\"\n",
      "_________________________________________________________________\n",
      " Layer (type)                Output Shape              Param #   \n",
      "=================================================================\n",
      " input (InputLayer)          [(None, 187)]             0         \n",
      "                                                                 \n",
      " hidden1 (Dense)             (None, 1000)              187000    \n",
      "                                                                 \n",
      " relu1 (ReLU)                (None, 1000)              0         \n",
      "                                                                 \n",
      " output (Dense)              (None, 2)                 2000      \n",
      "                                                                 \n",
      " output_relu (ReLU)          (None, 2)                 0         \n",
      "                                                                 \n",
      "=================================================================\n",
      "Total params: 189,000\n",
      "Trainable params: 189,000\n",
      "Non-trainable params: 0\n",
      "_________________________________________________________________\n"
     ]
    }
   ],
   "source": [
    "loaded_model.summary()"
   ]
  },
  {
   "cell_type": "code",
   "execution_count": 13,
   "metadata": {},
   "outputs": [
    {
     "name": "stdout",
     "output_type": "stream",
     "text": [
      "Layer: input\n",
      "Layer: hidden1\n",
      "[[ 0.05554117 -0.60329217  0.10063299 ... -0.20282644 -0.1642053\n",
      "  -0.2395675 ]\n",
      " [-0.19448015 -0.1452338  -0.16681203 ...  0.09751602  0.01531125\n",
      "  -0.45479232]\n",
      " [-0.26989135  0.23955078  0.14125073 ...  0.2866377   0.38093516\n",
      "  -0.25388843]\n",
      " ...\n",
      " [-1.0526779   0.05328737  0.38182843 ...  0.05886592 -0.56763756\n",
      "   0.17660348]\n",
      " [-1.1112064   0.05303211  0.22429852 ... -0.16740501 -0.4606028\n",
      "  -0.10161023]\n",
      " [-0.7610172   0.24437033  0.17644587 ...  0.04491612 -0.26091087\n",
      "  -0.5566925 ]]\n",
      "Layer: relu1\n",
      "Layer: output\n",
      "[[ 1.2111725  -1.1156695 ]\n",
      " [-2.4743867   1.9436427 ]\n",
      " [ 0.1464121  -0.1469736 ]\n",
      " ...\n",
      " [-0.89987695  1.1870453 ]\n",
      " [-1.1970752   1.0709147 ]\n",
      " [ 0.36830744 -0.38104096]]\n",
      "Layer: output_relu\n"
     ]
    }
   ],
   "source": [
    "# 로드된 모델의 가중치 확인\n",
    "for layer in loaded_model.layers:\n",
    "    weights = layer.get_weights()\n",
    "    print(f\"Layer: {layer.name}\")\n",
    "    for temp_weight in weights:\n",
    "        print(temp_weight)\n"
   ]
  }
 ],
 "metadata": {
  "kernelspec": {
   "display_name": "ECG-SNN",
   "language": "python",
   "name": "python3"
  },
  "language_info": {
   "codemirror_mode": {
    "name": "ipython",
    "version": 3
   },
   "file_extension": ".py",
   "mimetype": "text/x-python",
   "name": "python",
   "nbconvert_exporter": "python",
   "pygments_lexer": "ipython3",
   "version": "3.8.18"
  }
 },
 "nbformat": 4,
 "nbformat_minor": 2
}
