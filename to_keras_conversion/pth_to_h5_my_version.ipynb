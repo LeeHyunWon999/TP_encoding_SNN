{
 "cells": [
  {
   "cell_type": "markdown",
   "metadata": {},
   "source": [
    "# keras conversion code\n",
    "\n",
    "SNN 모델을 저장하되, IF 레이어는 ReLU로 바꿔서 저장하도록 한다. 대신 IF 레이어의 설정값은 따로 찍어서 보내기.\n",
    "\n",
    "**주의점 : keras version 2.11이 들어간 환경에서 실행할 것! (KIST의 Neu+ 칩 구동환경과 일치시켜야 함)**"
   ]
  },
  {
   "cell_type": "code",
   "execution_count": 1,
   "metadata": {},
   "outputs": [],
   "source": [
    "# path = '/data/hongwonseok/ECG-SNN/KIST/MLP/MLP_binary_NO_BatchNorm.pth'\n",
    "\n",
    "path = '/home/hschoi/data/leehyunwon/ECG-SNN/SNN_MLP_ver5_poisson_binary_encoders187_hidden1000_encoderGradTrue_early30_lr0.001_threshold1.0_2024_10_02_14_12_25.pt'\n",
    " \n",
    " "
   ]
  },
  {
   "cell_type": "code",
   "execution_count": 2,
   "metadata": {},
   "outputs": [
    {
     "name": "stderr",
     "output_type": "stream",
     "text": [
      "/tmp/ipykernel_1375126/3090495766.py:3: FutureWarning: You are using `torch.load` with `weights_only=False` (the current default value), which uses the default pickle module implicitly. It is possible to construct malicious pickle data which will execute arbitrary code during unpickling (See https://github.com/pytorch/pytorch/blob/main/SECURITY.md#untrusted-models for more details). In a future release, the default value for `weights_only` will be flipped to `True`. This limits the functions that could be executed during unpickling. Arbitrary objects will no longer be allowed to be loaded via this mode unless they are explicitly allowlisted by the user via `torch.serialization.add_safe_globals`. We recommend you start setting `weights_only=True` for any use case where you don't have full control of the loaded file. Please open an issue on GitHub for any issues related to this experimental feature.\n",
      "  model = torch.load(path)\n"
     ]
    },
    {
     "data": {
      "text/plain": [
       "{'epoch': 123,\n",
       " 'model_state_dict': OrderedDict([('hidden.0.weight',\n",
       "               tensor([[ 0.1393,  0.0648, -0.6093,  ..., -0.4128, -0.4444, -0.4954],\n",
       "                       [-0.1112, -0.0165, -0.1261,  ...,  0.1066,  0.0200,  0.0537],\n",
       "                       [ 0.4059,  0.1543,  0.3288,  ..., -0.0081, -0.0947,  0.0757],\n",
       "                       ...,\n",
       "                       [ 0.1602, -0.0882,  0.0658,  ...,  0.1971, -0.1087,  0.2221],\n",
       "                       [-0.0941, -0.4773,  0.2361,  ..., -0.0926,  0.1224,  0.3461],\n",
       "                       [ 0.4136,  0.0385, -0.6416,  ...,  0.3258,  0.3449, -0.2342]],\n",
       "                      device='cuda:0')),\n",
       "              ('layer.0.weight',\n",
       "               tensor([[ 0.1423, -0.8289,  0.2361,  ..., -0.3478, -1.9131, -2.2378],\n",
       "                       [-0.2553,  0.6203, -0.0082,  ...,  0.4773,  1.7018,  1.9360]],\n",
       "                      device='cuda:0'))]),\n",
       " 'optimizer_state_dict': {'state': {0: {'step': tensor(84816.),\n",
       "    'exp_avg': tensor([[-3.0318e-05, -2.5078e-05, -8.1867e-06,  ...,  6.4320e-08,\n",
       "              3.9778e-09,  5.2959e-09],\n",
       "            [ 2.6110e-04,  2.1502e-04,  2.7889e-04,  ..., -1.2825e-08,\n",
       "             -4.1945e-10,  1.5548e-08],\n",
       "            [-3.6612e-05, -2.6398e-05, -2.9435e-06,  ...,  1.8328e-07,\n",
       "              9.0432e-08, -1.9564e-07],\n",
       "            ...,\n",
       "            [-3.1590e-04, -3.1203e-04, -1.9741e-04,  ..., -5.7485e-09,\n",
       "             -3.8455e-09, -5.1514e-09],\n",
       "            [ 4.6486e-04,  1.4021e-04, -1.1220e-04,  ..., -1.4036e-06,\n",
       "             -8.9402e-07, -5.7145e-07],\n",
       "            [ 3.7975e-04,  1.7062e-04, -6.2846e-05,  ...,  1.5013e-08,\n",
       "             -6.7386e-08,  1.4444e-07]], device='cuda:0'),\n",
       "    'exp_avg_sq': tensor([[8.5960e-07, 6.2053e-07, 2.4931e-07,  ..., 5.5716e-14, 4.8022e-14,\n",
       "             1.9642e-14],\n",
       "            [8.7479e-07, 6.3385e-07, 2.7871e-07,  ..., 4.5813e-11, 8.6566e-12,\n",
       "             3.0428e-11],\n",
       "            [1.8610e-07, 1.2866e-07, 4.6214e-08,  ..., 3.8746e-10, 3.8997e-10,\n",
       "             2.7395e-10],\n",
       "            ...,\n",
       "            [8.9171e-07, 6.2948e-07, 2.3190e-07,  ..., 2.3472e-13, 1.1531e-13,\n",
       "             8.3577e-14],\n",
       "            [5.9532e-06, 4.2007e-06, 2.2817e-06,  ..., 7.6578e-11, 7.6493e-11,\n",
       "             6.9679e-11],\n",
       "            [3.5905e-05, 2.5031e-05, 6.1960e-06,  ..., 2.6783e-11, 7.1535e-12,\n",
       "             5.2785e-12]], device='cuda:0')},\n",
       "   1: {'step': tensor(84816.),\n",
       "    'exp_avg': tensor([[ 2.7452e-04,  1.0965e-04, -2.6622e-04,  ...,  1.8616e-04,\n",
       "             -5.2275e-05, -2.0937e-05],\n",
       "            [-1.7767e-04, -1.7203e-04, -3.5305e-05,  ..., -1.3846e-04,\n",
       "             -5.9641e-05,  9.8801e-06]], device='cuda:0'),\n",
       "    'exp_avg_sq': tensor([[1.0446e-06, 1.2286e-07, 5.6880e-07,  ..., 1.0240e-07, 1.0010e-07,\n",
       "             1.7263e-08],\n",
       "            [2.1314e-06, 1.3092e-07, 8.4862e-07,  ..., 1.3167e-07, 5.2823e-08,\n",
       "             2.0335e-08]], device='cuda:0')}},\n",
       "  'param_groups': [{'lr': 0.00010453658778440272,\n",
       "    'betas': (0.9, 0.999),\n",
       "    'eps': 1e-08,\n",
       "    'weight_decay': 0,\n",
       "    'amsgrad': False,\n",
       "    'maximize': False,\n",
       "    'foreach': None,\n",
       "    'capturable': False,\n",
       "    'differentiable': False,\n",
       "    'fused': None,\n",
       "    'initial_lr': 0.001,\n",
       "    'params': [0, 1]}]},\n",
       " 'loss': 0.024250975826330352}"
      ]
     },
     "execution_count": 2,
     "metadata": {},
     "output_type": "execute_result"
    }
   ],
   "source": [
    "import torch\n",
    "\n",
    "model = torch.load(path)\n",
    "model"
   ]
  },
  {
   "cell_type": "code",
   "execution_count": 3,
   "metadata": {},
   "outputs": [
    {
     "data": {
      "text/plain": [
       "OrderedDict([('hidden.0.weight',\n",
       "              tensor([[ 0.1393,  0.0648, -0.6093,  ..., -0.4128, -0.4444, -0.4954],\n",
       "                      [-0.1112, -0.0165, -0.1261,  ...,  0.1066,  0.0200,  0.0537],\n",
       "                      [ 0.4059,  0.1543,  0.3288,  ..., -0.0081, -0.0947,  0.0757],\n",
       "                      ...,\n",
       "                      [ 0.1602, -0.0882,  0.0658,  ...,  0.1971, -0.1087,  0.2221],\n",
       "                      [-0.0941, -0.4773,  0.2361,  ..., -0.0926,  0.1224,  0.3461],\n",
       "                      [ 0.4136,  0.0385, -0.6416,  ...,  0.3258,  0.3449, -0.2342]],\n",
       "                     device='cuda:0')),\n",
       "             ('layer.0.weight',\n",
       "              tensor([[ 0.1423, -0.8289,  0.2361,  ..., -0.3478, -1.9131, -2.2378],\n",
       "                      [-0.2553,  0.6203, -0.0082,  ...,  0.4773,  1.7018,  1.9360]],\n",
       "                     device='cuda:0'))])"
      ]
     },
     "execution_count": 3,
     "metadata": {},
     "output_type": "execute_result"
    }
   ],
   "source": [
    "weight = model['model_state_dict']\n",
    "weight"
   ]
  },
  {
   "cell_type": "code",
   "execution_count": 4,
   "metadata": {},
   "outputs": [
    {
     "data": {
      "text/plain": [
       "odict_items([('hidden.0.weight', tensor([[ 0.1393,  0.0648, -0.6093,  ..., -0.4128, -0.4444, -0.4954],\n",
       "        [-0.1112, -0.0165, -0.1261,  ...,  0.1066,  0.0200,  0.0537],\n",
       "        [ 0.4059,  0.1543,  0.3288,  ..., -0.0081, -0.0947,  0.0757],\n",
       "        ...,\n",
       "        [ 0.1602, -0.0882,  0.0658,  ...,  0.1971, -0.1087,  0.2221],\n",
       "        [-0.0941, -0.4773,  0.2361,  ..., -0.0926,  0.1224,  0.3461],\n",
       "        [ 0.4136,  0.0385, -0.6416,  ...,  0.3258,  0.3449, -0.2342]],\n",
       "       device='cuda:0')), ('layer.0.weight', tensor([[ 0.1423, -0.8289,  0.2361,  ..., -0.3478, -1.9131, -2.2378],\n",
       "        [-0.2553,  0.6203, -0.0082,  ...,  0.4773,  1.7018,  1.9360]],\n",
       "       device='cuda:0'))])"
      ]
     },
     "execution_count": 4,
     "metadata": {},
     "output_type": "execute_result"
    }
   ],
   "source": [
    "weight.items()"
   ]
  },
  {
   "cell_type": "code",
   "execution_count": 5,
   "metadata": {},
   "outputs": [
    {
     "name": "stderr",
     "output_type": "stream",
     "text": [
      "2024-10-03 16:09:08.875890: I tensorflow/core/platform/cpu_feature_guard.cc:193] This TensorFlow binary is optimized with oneAPI Deep Neural Network Library (oneDNN) to use the following CPU instructions in performance-critical operations:  SSE4.1 SSE4.2 AVX AVX2 AVX512F AVX512_VNNI FMA\n",
      "To enable them in other operations, rebuild TensorFlow with the appropriate compiler flags.\n"
     ]
    }
   ],
   "source": [
    "import torch\n",
    "import torch.nn as nn\n",
    "import numpy as np\n",
    "import tensorflow as tf\n",
    "from tensorflow.keras.models import Sequential\n",
    "from tensorflow.keras.models import Model\n",
    "from tensorflow.keras.layers import Input, Dense, BatchNormalization, ReLU, Dropout, InputLayer\n",
    "from tensorflow.keras.layers import ZeroPadding1D, Conv1D, BatchNormalization, ReLU, AveragePooling1D, Flatten, Dense"
   ]
  },
  {
   "cell_type": "markdown",
   "metadata": {},
   "source": [
    "일단 GPT에게 변환 코드 예시를 받아놨으니 그걸로 진행해보자.\n",
    "\n",
    "**KIST용으로 바꿀 땐 hidden layer 뉴런 수가 1000개 임에 주의!!!!**"
   ]
  },
  {
   "cell_type": "code",
   "execution_count": 6,
   "metadata": {},
   "outputs": [
    {
     "name": "stdout",
     "output_type": "stream",
     "text": [
      "Model: \"model\"\n",
      "_________________________________________________________________\n",
      " Layer (type)                Output Shape              Param #   \n",
      "=================================================================\n",
      " input (InputLayer)          [(None, 187)]             0         \n",
      "                                                                 \n",
      " hidden1 (Dense)             (None, 1000)              187000    \n",
      "                                                                 \n",
      " relu1 (ReLU)                (None, 1000)              0         \n",
      "                                                                 \n",
      " output (Dense)              (None, 2)                 2000      \n",
      "                                                                 \n",
      " output_relu (ReLU)          (None, 2)                 0         \n",
      "                                                                 \n",
      "=================================================================\n",
      "Total params: 189,000\n",
      "Trainable params: 189,000\n",
      "Non-trainable params: 0\n",
      "_________________________________________________________________\n"
     ]
    },
    {
     "name": "stderr",
     "output_type": "stream",
     "text": [
      "2024-10-03 16:09:16.200102: I tensorflow/core/platform/cpu_feature_guard.cc:193] This TensorFlow binary is optimized with oneAPI Deep Neural Network Library (oneDNN) to use the following CPU instructions in performance-critical operations:  SSE4.1 SSE4.2 AVX AVX2 AVX512F AVX512_VNNI FMA\n",
      "To enable them in other operations, rebuild TensorFlow with the appropriate compiler flags.\n",
      "2024-10-03 16:09:16.202017: I tensorflow/core/common_runtime/process_util.cc:146] Creating new thread pool with default inter op setting: 2. Tune using inter_op_parallelism_threads for best performance.\n"
     ]
    }
   ],
   "source": [
    "import tensorflow as tf\n",
    "from tensorflow.keras.models import Model\n",
    "from tensorflow.keras.layers import Input, Dense, ReLU\n",
    "\n",
    "def create_keras_model_SNN(num_classes, num_encoders, hidden_size, hidden_size_2):\n",
    "    # 입력 레이어 정의\n",
    "    inputs = Input(shape=(num_encoders,), name='input')\n",
    "    \n",
    "    # 첫 번째 히든 레이어\n",
    "    x = Dense(hidden_size, use_bias=False, name='hidden1')(inputs)\n",
    "    x = ReLU(name='relu1')(x)\n",
    "    \n",
    "    # 히든레이어 하나만 써서 학습하는 모델로 변경\n",
    "    # # 두 번째 히든 레이어\n",
    "    # x = Dense(hidden_size_2, use_bias=False, name='hidden2')(x)\n",
    "    # x = ReLU(name='relu2')(x)\n",
    "    \n",
    "    # 출력 레이어\n",
    "    predictions = Dense(num_classes, use_bias=False, name='output')(x)\n",
    "    predictions = ReLU(name='output_relu')(predictions)  # IFNode를 ReLU로 치환\n",
    "\n",
    "    # 모델 생성\n",
    "    model = Model(inputs=inputs, outputs=predictions)\n",
    "    \n",
    "    return model\n",
    "\n",
    "# 모델 생성 예시\n",
    "keras_model = create_keras_model_SNN(num_classes=2, num_encoders=187, hidden_size=1000, hidden_size_2=1000)\n",
    "\n",
    "# 모델 구조 확인\n",
    "keras_model.summary()"
   ]
  },
  {
   "cell_type": "code",
   "execution_count": 7,
   "metadata": {},
   "outputs": [
    {
     "name": "stdout",
     "output_type": "stream",
     "text": [
      "Layer: input\n",
      "Layer: hidden1\n",
      "[[-0.00415822 -0.05357077  0.02445271 ... -0.00628012 -0.03349784\n",
      "   0.01708192]\n",
      " [-0.01245295  0.07000272 -0.03547409 ... -0.06438427  0.0332396\n",
      "  -0.03246547]\n",
      " [ 0.02798231  0.00014364  0.07093292 ... -0.0650633  -0.0515359\n",
      "   0.00535967]\n",
      " ...\n",
      " [ 0.05727746  0.07037124  0.06633219 ...  0.0691597  -0.00310344\n",
      "  -0.03603009]\n",
      " [ 0.04945737 -0.01611969 -0.04590061 ...  0.01937582 -0.01796092\n",
      "   0.01494839]\n",
      " [-0.0201223  -0.03918933 -0.02204446 ... -0.01498163 -0.02500371\n",
      "  -0.00871846]]\n",
      "Layer: relu1\n",
      "Layer: output\n",
      "[[-0.03131597  0.05044855]\n",
      " [-0.01155195 -0.0363961 ]\n",
      " [-0.05490629 -0.02801292]\n",
      " ...\n",
      " [-0.0013093  -0.0464754 ]\n",
      " [-0.02287892  0.03038707]\n",
      " [-0.03344737  0.05387384]]\n",
      "Layer: output_relu\n"
     ]
    }
   ],
   "source": [
    "# keras 모델의 초기 가중치 확인\n",
    "for layer in keras_model.layers:\n",
    "    weights = layer.get_weights()\n",
    "    print(f\"Layer: {layer.name}\")\n",
    "    for temp_weight in weights:\n",
    "        print(temp_weight)"
   ]
  },
  {
   "cell_type": "markdown",
   "metadata": {},
   "source": [
    "가중치 추출하고 케라스 모델에 대입하기\n",
    "\n",
    "왜인진 모르겠지만 cuda 커널 이미지가 안맞는다 하다가 또 된다고 하다가 그런다. 일단 시도해서 될 때 계속 진행하도록 한다."
   ]
  },
  {
   "cell_type": "code",
   "execution_count": 9,
   "metadata": {},
   "outputs": [
    {
     "name": "stdout",
     "output_type": "stream",
     "text": [
      "2.4.1\n",
      "11.8\n",
      "True\n",
      "Model: \"model\"\n",
      "_________________________________________________________________\n",
      " Layer (type)                Output Shape              Param #   \n",
      "=================================================================\n",
      " input (InputLayer)          [(None, 187)]             0         \n",
      "                                                                 \n",
      " hidden1 (Dense)             (None, 1000)              187000    \n",
      "                                                                 \n",
      " relu1 (ReLU)                (None, 1000)              0         \n",
      "                                                                 \n",
      " output (Dense)              (None, 2)                 2000      \n",
      "                                                                 \n",
      " output_relu (ReLU)          (None, 2)                 0         \n",
      "                                                                 \n",
      "=================================================================\n",
      "Total params: 189,000\n",
      "Trainable params: 189,000\n",
      "Non-trainable params: 0\n",
      "_________________________________________________________________\n"
     ]
    }
   ],
   "source": [
    "import torch\n",
    "print(torch.__version__)  # PyTorch 버전 확인\n",
    "print(torch.version.cuda)  # CUDA 버전 확인\n",
    "print(torch.cuda.is_available())  # CUDA 사용 가능 여부 확인\n",
    "\n",
    "!export CUDA_LAUNCH_BLOCKING=1\n",
    "\n",
    "# PyTorch에서 가중치 추출 및 Keras에 적용\n",
    "pt_weights = {k: v.cpu().numpy() for k, v in weight.items()}\n",
    "\n",
    "# Keras 가중치 설정\n",
    "# pytorch의 모델 가중치는 (출력, 입력) 순서로 저장되고 케라스는 그 반대이므로 Transpose 필요\n",
    "keras_model.get_layer('hidden1').set_weights([pt_weights['hidden.0.weight'].T]) # bias 빼기!\n",
    "# keras_model.get_layer('hidden2').set_weights([pt_weights['hidden2.0.weight'].T]) # 레이어 1개만 사용하는 경우 빼야 함!\n",
    "keras_model.get_layer('output').set_weights([pt_weights['layer.0.weight'].T])\n",
    "\n",
    "# 잘 들어갔나 확인?\n",
    "keras_model.summary()"
   ]
  },
  {
   "cell_type": "code",
   "execution_count": 10,
   "metadata": {},
   "outputs": [
    {
     "name": "stdout",
     "output_type": "stream",
     "text": [
      "WARNING:tensorflow:Compiled the loaded model, but the compiled metrics have yet to be built. `model.compile_metrics` will be empty until you train or evaluate the model.\n"
     ]
    }
   ],
   "source": [
    "# 모델 저장\n",
    "keras_model.save('poisson_1000_one_layer.h5')"
   ]
  },
  {
   "cell_type": "code",
   "execution_count": 11,
   "metadata": {},
   "outputs": [
    {
     "name": "stdout",
     "output_type": "stream",
     "text": [
      "Layer: input\n",
      "Layer: hidden1\n",
      "[[ 0.1393217  -0.11117818  0.40588138 ...  0.160218   -0.09410918\n",
      "   0.4136175 ]\n",
      " [ 0.06481083 -0.01649775  0.15433973 ... -0.08817419 -0.4773201\n",
      "   0.0384829 ]\n",
      " [-0.60930616 -0.12605259  0.3287924  ...  0.06578878  0.23608081\n",
      "  -0.6416051 ]\n",
      " ...\n",
      " [-0.41282886  0.10655718 -0.00813517 ...  0.1971226  -0.09260934\n",
      "   0.32584062]\n",
      " [-0.4444129   0.01996902 -0.0946975  ... -0.10874777  0.12241526\n",
      "   0.34488752]\n",
      " [-0.49544457  0.05372631  0.07568143 ...  0.22207184  0.34606954\n",
      "  -0.23418602]]\n",
      "Layer: relu1\n",
      "Layer: output\n",
      "[[ 0.14234476 -0.25528443]\n",
      " [-0.8288827   0.6202623 ]\n",
      " [ 0.2360881  -0.0081592 ]\n",
      " ...\n",
      " [-0.3477605   0.4772581 ]\n",
      " [-1.9131286   1.7017852 ]\n",
      " [-2.237751    1.935989  ]]\n",
      "Layer: output_relu\n"
     ]
    }
   ],
   "source": [
    "# 모델의 가중치 확인\n",
    "for layer in keras_model.layers:\n",
    "    weights = layer.get_weights()\n",
    "    print(f\"Layer: {layer.name}\")\n",
    "    for temp_weight in weights:\n",
    "        print(temp_weight)"
   ]
  },
  {
   "cell_type": "code",
   "execution_count": 12,
   "metadata": {},
   "outputs": [
    {
     "name": "stdout",
     "output_type": "stream",
     "text": [
      "WARNING:tensorflow:No training configuration found in the save file, so the model was *not* compiled. Compile it manually.\n"
     ]
    }
   ],
   "source": [
    "from tensorflow.keras.models import load_model\n",
    "\n",
    "# 저장된 모델 로드\n",
    "loaded_model = load_model('/home/hschoi/leehyunwon/ECG-SNN/to_keras_conversion/poisson_1000_one_layer.h5')\n"
   ]
  },
  {
   "cell_type": "code",
   "execution_count": 13,
   "metadata": {},
   "outputs": [
    {
     "name": "stdout",
     "output_type": "stream",
     "text": [
      "Model: \"model\"\n",
      "_________________________________________________________________\n",
      " Layer (type)                Output Shape              Param #   \n",
      "=================================================================\n",
      " input (InputLayer)          [(None, 187)]             0         \n",
      "                                                                 \n",
      " hidden1 (Dense)             (None, 1000)              187000    \n",
      "                                                                 \n",
      " relu1 (ReLU)                (None, 1000)              0         \n",
      "                                                                 \n",
      " output (Dense)              (None, 2)                 2000      \n",
      "                                                                 \n",
      " output_relu (ReLU)          (None, 2)                 0         \n",
      "                                                                 \n",
      "=================================================================\n",
      "Total params: 189,000\n",
      "Trainable params: 189,000\n",
      "Non-trainable params: 0\n",
      "_________________________________________________________________\n"
     ]
    }
   ],
   "source": [
    "loaded_model.summary()"
   ]
  },
  {
   "cell_type": "code",
   "execution_count": 14,
   "metadata": {},
   "outputs": [
    {
     "name": "stdout",
     "output_type": "stream",
     "text": [
      "Layer: input\n",
      "Layer: hidden1\n",
      "[[ 0.1393217  -0.11117818  0.40588138 ...  0.160218   -0.09410918\n",
      "   0.4136175 ]\n",
      " [ 0.06481083 -0.01649775  0.15433973 ... -0.08817419 -0.4773201\n",
      "   0.0384829 ]\n",
      " [-0.60930616 -0.12605259  0.3287924  ...  0.06578878  0.23608081\n",
      "  -0.6416051 ]\n",
      " ...\n",
      " [-0.41282886  0.10655718 -0.00813517 ...  0.1971226  -0.09260934\n",
      "   0.32584062]\n",
      " [-0.4444129   0.01996902 -0.0946975  ... -0.10874777  0.12241526\n",
      "   0.34488752]\n",
      " [-0.49544457  0.05372631  0.07568143 ...  0.22207184  0.34606954\n",
      "  -0.23418602]]\n",
      "Layer: relu1\n",
      "Layer: output\n",
      "[[ 0.14234476 -0.25528443]\n",
      " [-0.8288827   0.6202623 ]\n",
      " [ 0.2360881  -0.0081592 ]\n",
      " ...\n",
      " [-0.3477605   0.4772581 ]\n",
      " [-1.9131286   1.7017852 ]\n",
      " [-2.237751    1.935989  ]]\n",
      "Layer: output_relu\n"
     ]
    }
   ],
   "source": [
    "# 로드된 모델의 가중치 확인\n",
    "for layer in loaded_model.layers:\n",
    "    weights = layer.get_weights()\n",
    "    print(f\"Layer: {layer.name}\")\n",
    "    for temp_weight in weights:\n",
    "        print(temp_weight)\n"
   ]
  }
 ],
 "metadata": {
  "kernelspec": {
   "display_name": "ECG-SNN",
   "language": "python",
   "name": "python3"
  },
  "language_info": {
   "codemirror_mode": {
    "name": "ipython",
    "version": 3
   },
   "file_extension": ".py",
   "mimetype": "text/x-python",
   "name": "python",
   "nbconvert_exporter": "python",
   "pygments_lexer": "ipython3",
   "version": "3.8.18"
  }
 },
 "nbformat": 4,
 "nbformat_minor": 2
}
