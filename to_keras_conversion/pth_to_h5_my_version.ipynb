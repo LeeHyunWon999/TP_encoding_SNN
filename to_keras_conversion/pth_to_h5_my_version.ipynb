{
 "cells": [
  {
   "cell_type": "markdown",
   "metadata": {},
   "source": [
    "# keras conversion code\n",
    "\n",
    "SNN 모델을 저장하되, IF 레이어는 ReLU로 바꿔서 저장하도록 한다. 대신 IF 레이어의 설정값은 따로 찍어서 보내기.\n",
    "\n",
    "**주의점 : keras version 2.11이 들어간 환경에서 실행할 것! (KIST의 Neu+ 칩 구동환경과 일치시켜야 함)**"
   ]
  },
  {
   "cell_type": "code",
   "execution_count": 3,
   "metadata": {},
   "outputs": [],
   "source": [
    "# path = '/data/hongwonseok/ECG-SNN/KIST/MLP/MLP_binary_NO_BatchNorm.pth'\n",
    "\n",
    "path = '/home/hschoi/data/leehyunwon/ECG-SNN/SNN_MLP_ver5_LIF_poisson_positive_only_binary_encoders187_hidden1000_encoderGradTrue_early30_lr0.001_threshold1.0_2024_11_05_19_13_23_lastEpoch.pt'\n",
    " \n",
    " "
   ]
  },
  {
   "cell_type": "code",
   "execution_count": 4,
   "metadata": {},
   "outputs": [
    {
     "name": "stderr",
     "output_type": "stream",
     "text": [
      "/tmp/ipykernel_2346339/3090495766.py:3: FutureWarning: You are using `torch.load` with `weights_only=False` (the current default value), which uses the default pickle module implicitly. It is possible to construct malicious pickle data which will execute arbitrary code during unpickling (See https://github.com/pytorch/pytorch/blob/main/SECURITY.md#untrusted-models for more details). In a future release, the default value for `weights_only` will be flipped to `True`. This limits the functions that could be executed during unpickling. Arbitrary objects will no longer be allowed to be loaded via this mode unless they are explicitly allowlisted by the user via `torch.serialization.add_safe_globals`. We recommend you start setting `weights_only=True` for any use case where you don't have full control of the loaded file. Please open an issue on GitHub for any issues related to this experimental feature.\n",
      "  model = torch.load(path)\n"
     ]
    },
    {
     "data": {
      "text/plain": [
       "{'epoch': 149,\n",
       " 'model_state_dict': OrderedDict([('hidden.0.weight',\n",
       "               tensor([[1.7970e-03, 7.6708e-04, 7.6870e-04,  ..., 3.4326e+00, 4.0408e+00,\n",
       "                        3.4362e+00],\n",
       "                       [3.7384e-01, 9.7579e-03, 1.4517e-03,  ..., 8.2034e-01, 4.5643e-01,\n",
       "                        5.7082e-01],\n",
       "                       [1.3272e-03, 1.6771e-03, 1.4202e-03,  ..., 7.4936e-01, 2.2146e-02,\n",
       "                        5.5253e-02],\n",
       "                       ...,\n",
       "                       [4.0657e-04, 8.1078e-04, 1.3806e-03,  ..., 3.6654e+00, 4.7772e+00,\n",
       "                        3.3208e+00],\n",
       "                       [7.6067e-04, 8.0444e-05, 7.6138e-03,  ..., 3.0507e+00, 3.7444e+00,\n",
       "                        3.0639e-01],\n",
       "                       [8.2957e-02, 1.2664e+00, 2.3958e-03,  ..., 2.1972e-02, 1.0780e-02,\n",
       "                        2.6476e-02]], device='cuda:0')),\n",
       "              ('layer.0.weight',\n",
       "               tensor([[-0.0040, -0.0004, -0.0002,  ..., -0.0038, -0.0036,  0.0147],\n",
       "                       [ 0.0002, -0.0032, -0.0036,  ..., -0.0006, -0.0003, -0.0040]],\n",
       "                      device='cuda:0'))]),\n",
       " 'optimizer_state_dict': {'state': {0: {'step': tensor(51300.),\n",
       "    'exp_avg': tensor([[-5.4694e-06, -2.4119e-05,  7.3526e-06,  ..., -8.4187e-10,\n",
       "             -1.0258e-09, -1.0994e-09],\n",
       "            [-4.9223e-06, -3.2104e-06, -8.3987e-07,  ...,  2.9473e-10,\n",
       "             -6.8219e-10, -6.6774e-11],\n",
       "            [ 9.7178e-07, -1.3201e-06,  7.2653e-07,  ..., -4.7903e-09,\n",
       "             -4.6207e-09, -1.8870e-09],\n",
       "            ...,\n",
       "            [ 1.1867e-05,  5.8467e-07,  1.0119e-05,  ..., -6.0463e-10,\n",
       "             -8.4070e-10, -1.5722e-09],\n",
       "            [-4.4836e-06, -6.7088e-06,  5.5461e-06,  ..., -1.0337e-09,\n",
       "             -1.0821e-09, -7.7239e-11],\n",
       "            [-2.1345e-05, -2.3467e-05, -1.5412e-05,  ...,  1.8143e-08,\n",
       "              2.6762e-08,  1.5996e-08]], device='cuda:0'),\n",
       "    'exp_avg_sq': tensor([[3.3371e-09, 2.3933e-09, 1.2345e-09,  ..., 1.7647e-17, 1.1031e-17,\n",
       "             1.6382e-17],\n",
       "            [3.6879e-09, 2.8293e-09, 1.0811e-09,  ..., 3.2993e-17, 7.1379e-17,\n",
       "             1.3705e-16],\n",
       "            [1.2136e-09, 1.3779e-09, 1.0718e-09,  ..., 5.9466e-16, 4.3329e-16,\n",
       "             4.4180e-16],\n",
       "            ...,\n",
       "            [4.8572e-09, 4.4347e-09, 2.1125e-09,  ..., 5.9720e-17, 2.3757e-17,\n",
       "             7.6043e-17],\n",
       "            [3.2621e-09, 2.0781e-09, 9.3486e-10,  ..., 2.9637e-17, 1.6879e-17,\n",
       "             6.2105e-15],\n",
       "            [1.4822e-08, 1.1599e-08, 7.1967e-09,  ..., 1.4927e-13, 3.9470e-12,\n",
       "             1.1383e-12]], device='cuda:0')},\n",
       "   1: {'step': tensor(51300.),\n",
       "    'exp_avg': tensor([[-0.0024, -0.0040, -0.0041,  ..., -0.0029, -0.0030, -0.0064],\n",
       "            [-0.0020,  0.0009, -0.0017,  ..., -0.0022, -0.0013,  0.0020]],\n",
       "           device='cuda:0'),\n",
       "    'exp_avg_sq': tensor([[0.0007, 0.0004, 0.0009,  ..., 0.0006, 0.0007, 0.0009],\n",
       "            [0.0007, 0.0005, 0.0010,  ..., 0.0004, 0.0006, 0.0010]],\n",
       "           device='cuda:0')}},\n",
       "  'param_groups': [{'lr': 0.0010000000000000321,\n",
       "    'betas': (0.9, 0.999),\n",
       "    'eps': 1e-08,\n",
       "    'weight_decay': 0,\n",
       "    'amsgrad': False,\n",
       "    'maximize': False,\n",
       "    'foreach': None,\n",
       "    'capturable': False,\n",
       "    'differentiable': False,\n",
       "    'fused': None,\n",
       "    'initial_lr': 0.001,\n",
       "    'params': [0, 1]}]},\n",
       " 'loss': 0.18748871254570343}"
      ]
     },
     "execution_count": 4,
     "metadata": {},
     "output_type": "execute_result"
    }
   ],
   "source": [
    "import torch\n",
    "\n",
    "model = torch.load(path)\n",
    "model"
   ]
  },
  {
   "cell_type": "code",
   "execution_count": 4,
   "metadata": {},
   "outputs": [
    {
     "data": {
      "text/plain": [
       "OrderedDict([('hidden.0.weight',\n",
       "              tensor([[-4.7883e-01, -2.1000e+00, -1.3955e+00,  ...,  6.5632e-01,\n",
       "                        5.5826e-01,  1.0480e+00],\n",
       "                      [-1.0085e+00, -2.1185e+00, -5.4350e-01,  ...,  2.2340e+00,\n",
       "                        1.1446e+00,  3.1596e+00],\n",
       "                      [ 6.9557e-01,  5.1900e-01,  6.8710e-01,  ..., -1.0271e+00,\n",
       "                       -8.2129e-01, -1.1322e+00],\n",
       "                      ...,\n",
       "                      [ 2.9812e-01,  6.3216e-01, -5.2330e-01,  ...,  5.0113e-02,\n",
       "                       -4.6645e-01, -2.7735e-01],\n",
       "                      [-2.8222e-01, -1.3380e+00, -9.7336e-02,  ...,  4.3523e-01,\n",
       "                        4.6908e-01,  6.8050e-01],\n",
       "                      [-4.7677e-01, -1.3803e+00,  4.4510e-01,  ...,  2.7520e-03,\n",
       "                        2.1900e-01, -3.9930e-01]], device='cuda:0')),\n",
       "             ('layer.0.weight',\n",
       "              tensor([[-0.5208, -0.5810,  0.3991,  ...,  0.3393, -0.6402,  0.1393],\n",
       "                      [ 0.4459,  0.6468, -0.4045,  ..., -0.2010,  0.8286, -0.1696]],\n",
       "                     device='cuda:0'))])"
      ]
     },
     "execution_count": 4,
     "metadata": {},
     "output_type": "execute_result"
    }
   ],
   "source": [
    "weight = model['model_state_dict']\n",
    "weight"
   ]
  },
  {
   "cell_type": "code",
   "execution_count": 5,
   "metadata": {},
   "outputs": [
    {
     "data": {
      "text/plain": [
       "odict_items([('hidden.0.weight', tensor([[-4.7883e-01, -2.1000e+00, -1.3955e+00,  ...,  6.5632e-01,\n",
       "          5.5826e-01,  1.0480e+00],\n",
       "        [-1.0085e+00, -2.1185e+00, -5.4350e-01,  ...,  2.2340e+00,\n",
       "          1.1446e+00,  3.1596e+00],\n",
       "        [ 6.9557e-01,  5.1900e-01,  6.8710e-01,  ..., -1.0271e+00,\n",
       "         -8.2129e-01, -1.1322e+00],\n",
       "        ...,\n",
       "        [ 2.9812e-01,  6.3216e-01, -5.2330e-01,  ...,  5.0113e-02,\n",
       "         -4.6645e-01, -2.7735e-01],\n",
       "        [-2.8222e-01, -1.3380e+00, -9.7336e-02,  ...,  4.3523e-01,\n",
       "          4.6908e-01,  6.8050e-01],\n",
       "        [-4.7677e-01, -1.3803e+00,  4.4510e-01,  ...,  2.7520e-03,\n",
       "          2.1900e-01, -3.9930e-01]], device='cuda:0')), ('layer.0.weight', tensor([[-0.5208, -0.5810,  0.3991,  ...,  0.3393, -0.6402,  0.1393],\n",
       "        [ 0.4459,  0.6468, -0.4045,  ..., -0.2010,  0.8286, -0.1696]],\n",
       "       device='cuda:0'))])"
      ]
     },
     "execution_count": 5,
     "metadata": {},
     "output_type": "execute_result"
    }
   ],
   "source": [
    "weight.items()"
   ]
  },
  {
   "cell_type": "code",
   "execution_count": 8,
   "metadata": {},
   "outputs": [],
   "source": [
    "import torch\n",
    "import torch.nn as nn\n",
    "import numpy as np\n",
    "import tensorflow as tf\n",
    "from tensorflow.keras.models import Sequential\n",
    "from tensorflow.keras.models import Model\n",
    "from tensorflow.keras.layers import Input, Dense, BatchNormalization, ReLU, Dropout, InputLayer\n",
    "from tensorflow.keras.layers import ZeroPadding1D, Conv1D, BatchNormalization, ReLU, AveragePooling1D, Flatten, Dense"
   ]
  },
  {
   "cell_type": "markdown",
   "metadata": {},
   "source": [
    "일단 GPT에게 변환 코드 예시를 받아놨으니 그걸로 진행해보자.\n",
    "\n",
    "**KIST용으로 바꿀 땐 hidden layer 뉴런 수가 1000개 임에 주의!!!!**"
   ]
  },
  {
   "cell_type": "code",
   "execution_count": 9,
   "metadata": {},
   "outputs": [
    {
     "name": "stdout",
     "output_type": "stream",
     "text": [
      "Model: \"model\"\n",
      "_________________________________________________________________\n",
      " Layer (type)                Output Shape              Param #   \n",
      "=================================================================\n",
      " input (InputLayer)          [(None, 187)]             0         \n",
      "                                                                 \n",
      " hidden1 (Dense)             (None, 1000)              187000    \n",
      "                                                                 \n",
      " relu1 (ReLU)                (None, 1000)              0         \n",
      "                                                                 \n",
      " output (Dense)              (None, 2)                 2000      \n",
      "                                                                 \n",
      " output_relu (ReLU)          (None, 2)                 0         \n",
      "                                                                 \n",
      "=================================================================\n",
      "Total params: 189,000\n",
      "Trainable params: 189,000\n",
      "Non-trainable params: 0\n",
      "_________________________________________________________________\n"
     ]
    },
    {
     "name": "stderr",
     "output_type": "stream",
     "text": [
      "2024-10-30 17:32:27.023441: I tensorflow/core/platform/cpu_feature_guard.cc:193] This TensorFlow binary is optimized with oneAPI Deep Neural Network Library (oneDNN) to use the following CPU instructions in performance-critical operations:  SSE4.1 SSE4.2 AVX AVX2 AVX512F AVX512_VNNI FMA\n",
      "To enable them in other operations, rebuild TensorFlow with the appropriate compiler flags.\n",
      "2024-10-30 17:32:27.025701: I tensorflow/core/common_runtime/process_util.cc:146] Creating new thread pool with default inter op setting: 2. Tune using inter_op_parallelism_threads for best performance.\n"
     ]
    }
   ],
   "source": [
    "import tensorflow as tf\n",
    "from tensorflow.keras.models import Model\n",
    "from tensorflow.keras.layers import Input, Dense, ReLU\n",
    "\n",
    "def create_keras_model_SNN(num_classes, num_encoders, hidden_size, hidden_size_2):\n",
    "    # 입력 레이어 정의\n",
    "    inputs = Input(shape=(num_encoders,), name='input')\n",
    "    \n",
    "    # 첫 번째 히든 레이어\n",
    "    x = Dense(hidden_size, use_bias=False, name='hidden1')(inputs)\n",
    "    x = ReLU(name='relu1')(x)\n",
    "    \n",
    "    # 히든레이어 하나만 써서 학습하는 모델로 변경\n",
    "    # # 두 번째 히든 레이어\n",
    "    # x = Dense(hidden_size_2, use_bias=False, name='hidden2')(x)\n",
    "    # x = ReLU(name='relu2')(x)\n",
    "    \n",
    "    # 출력 레이어\n",
    "    predictions = Dense(num_classes, use_bias=False, name='output')(x)\n",
    "    predictions = ReLU(name='output_relu')(predictions)  # IFNode를 ReLU로 치환\n",
    "\n",
    "    # 모델 생성\n",
    "    model = Model(inputs=inputs, outputs=predictions)\n",
    "    \n",
    "    return model\n",
    "\n",
    "# 모델 생성 예시\n",
    "keras_model = create_keras_model_SNN(num_classes=2, num_encoders=187, hidden_size=1000, hidden_size_2=1000)\n",
    "\n",
    "# 모델 구조 확인\n",
    "keras_model.summary()"
   ]
  },
  {
   "cell_type": "code",
   "execution_count": 11,
   "metadata": {},
   "outputs": [
    {
     "name": "stdout",
     "output_type": "stream",
     "text": [
      "Layer: input\n",
      "Layer: hidden1\n",
      "[[-0.06366645 -0.01185206  0.00050618 ...  0.02719269 -0.02091796\n",
      "  -0.03447803]\n",
      " [ 0.06094223 -0.03147082  0.0093798  ...  0.0534135   0.0507236\n",
      "  -0.02673078]\n",
      " [-0.02486161 -0.02915781 -0.03580278 ... -0.01987555  0.04763599\n",
      "  -0.05257952]\n",
      " ...\n",
      " [-0.06266032  0.06343159  0.06716911 ...  0.02507526  0.0092084\n",
      "  -0.01930699]\n",
      " [-0.02473257  0.04427122  0.05919512 ...  0.070154   -0.044639\n",
      "   0.03611359]\n",
      " [-0.00754567 -0.03398001  0.04247361 ... -0.03664387 -0.0056309\n",
      "   0.00074009]]\n",
      "Layer: relu1\n",
      "Layer: output\n",
      "[[ 0.07676843 -0.07009397]\n",
      " [ 0.06270686  0.06770964]\n",
      " [-0.03963278  0.04665702]\n",
      " ...\n",
      " [ 0.07335906  0.06514953]\n",
      " [-0.02309464 -0.01582494]\n",
      " [-0.03710136 -0.0680869 ]]\n",
      "Layer: output_relu\n"
     ]
    }
   ],
   "source": [
    "# keras 모델의 초기 가중치 확인\n",
    "for layer in keras_model.layers:\n",
    "    weights = layer.get_weights()\n",
    "    print(f\"Layer: {layer.name}\")\n",
    "    for temp_weight in weights:\n",
    "        print(temp_weight)"
   ]
  },
  {
   "cell_type": "markdown",
   "metadata": {},
   "source": [
    "가중치 추출하고 케라스 모델에 대입하기\n",
    "\n",
    "왜인진 모르겠지만 cuda 커널 이미지가 안맞는다 하다가 또 된다고 하다가 그런다. 일단 시도해서 될 때 계속 진행하도록 한다."
   ]
  },
  {
   "cell_type": "code",
   "execution_count": 12,
   "metadata": {},
   "outputs": [
    {
     "name": "stdout",
     "output_type": "stream",
     "text": [
      "2.4.1\n",
      "11.8\n",
      "True\n",
      "Model: \"model\"\n",
      "_________________________________________________________________\n",
      " Layer (type)                Output Shape              Param #   \n",
      "=================================================================\n",
      " input (InputLayer)          [(None, 187)]             0         \n",
      "                                                                 \n",
      " hidden1 (Dense)             (None, 1000)              187000    \n",
      "                                                                 \n",
      " relu1 (ReLU)                (None, 1000)              0         \n",
      "                                                                 \n",
      " output (Dense)              (None, 2)                 2000      \n",
      "                                                                 \n",
      " output_relu (ReLU)          (None, 2)                 0         \n",
      "                                                                 \n",
      "=================================================================\n",
      "Total params: 189,000\n",
      "Trainable params: 189,000\n",
      "Non-trainable params: 0\n",
      "_________________________________________________________________\n"
     ]
    }
   ],
   "source": [
    "import torch\n",
    "print(torch.__version__)  # PyTorch 버전 확인\n",
    "print(torch.version.cuda)  # CUDA 버전 확인\n",
    "print(torch.cuda.is_available())  # CUDA 사용 가능 여부 확인\n",
    "\n",
    "!export CUDA_LAUNCH_BLOCKING=1\n",
    "\n",
    "# PyTorch에서 가중치 추출 및 Keras에 적용\n",
    "pt_weights = {k: v.cpu().numpy() for k, v in weight.items()}\n",
    "\n",
    "# Keras 가중치 설정\n",
    "# pytorch의 모델 가중치는 (출력, 입력) 순서로 저장되고 케라스는 그 반대이므로 Transpose 필요\n",
    "keras_model.get_layer('hidden1').set_weights([pt_weights['hidden.0.weight'].T]) # bias 빼기!\n",
    "# keras_model.get_layer('hidden2').set_weights([pt_weights['hidden2.0.weight'].T]) # 레이어 1개만 사용하는 경우 빼야 함!\n",
    "keras_model.get_layer('output').set_weights([pt_weights['layer.0.weight'].T])\n",
    "\n",
    "# 잘 들어갔나 확인?\n",
    "keras_model.summary()"
   ]
  },
  {
   "cell_type": "code",
   "execution_count": 13,
   "metadata": {},
   "outputs": [
    {
     "name": "stdout",
     "output_type": "stream",
     "text": [
      "WARNING:tensorflow:Compiled the loaded model, but the compiled metrics have yet to be built. `model.compile_metrics` will be empty until you train or evaluate the model.\n"
     ]
    }
   ],
   "source": [
    "# 모델 저장\n",
    "keras_model.save('burst_1000_LIF.h5')"
   ]
  },
  {
   "cell_type": "code",
   "execution_count": 14,
   "metadata": {},
   "outputs": [
    {
     "name": "stdout",
     "output_type": "stream",
     "text": [
      "Layer: input\n",
      "Layer: hidden1\n",
      "[[-4.7883126e-01 -1.0085399e+00  6.9557190e-01 ...  2.9812288e-01\n",
      "  -2.8222498e-01 -4.7676760e-01]\n",
      " [-2.1000419e+00 -2.1185455e+00  5.1899660e-01 ...  6.3216054e-01\n",
      "  -1.3379674e+00 -1.3802923e+00]\n",
      " [-1.3955481e+00 -5.4350328e-01  6.8710476e-01 ... -5.2329820e-01\n",
      "  -9.7336426e-02  4.4509730e-01]\n",
      " ...\n",
      " [ 6.5631783e-01  2.2339928e+00 -1.0271481e+00 ...  5.0112635e-02\n",
      "   4.3523338e-01  2.7520042e-03]\n",
      " [ 5.5825573e-01  1.1445986e+00 -8.2128531e-01 ... -4.6644902e-01\n",
      "   4.6908402e-01  2.1900421e-01]\n",
      " [ 1.0479628e+00  3.1595964e+00 -1.1322427e+00 ... -2.7734637e-01\n",
      "   6.8049937e-01 -3.9929610e-01]]\n",
      "Layer: relu1\n",
      "Layer: output\n",
      "[[-0.520808    0.44594646]\n",
      " [-0.5810289   0.6468107 ]\n",
      " [ 0.3990503  -0.4045053 ]\n",
      " ...\n",
      " [ 0.33933774 -0.20098811]\n",
      " [-0.64021105  0.8286197 ]\n",
      " [ 0.13931262 -0.16964607]]\n",
      "Layer: output_relu\n"
     ]
    }
   ],
   "source": [
    "# 모델의 가중치 확인\n",
    "for layer in keras_model.layers:\n",
    "    weights = layer.get_weights()\n",
    "    print(f\"Layer: {layer.name}\")\n",
    "    for temp_weight in weights:\n",
    "        print(temp_weight)"
   ]
  },
  {
   "cell_type": "code",
   "execution_count": 15,
   "metadata": {},
   "outputs": [
    {
     "name": "stdout",
     "output_type": "stream",
     "text": [
      "WARNING:tensorflow:No training configuration found in the save file, so the model was *not* compiled. Compile it manually.\n"
     ]
    }
   ],
   "source": [
    "from tensorflow.keras.models import load_model\n",
    "\n",
    "# 저장된 모델 로드\n",
    "loaded_model = load_model('/home/hschoi/leehyunwon/ECG-SNN/to_keras_conversion/burst_1000_LIF.h5')\n"
   ]
  },
  {
   "cell_type": "code",
   "execution_count": 16,
   "metadata": {},
   "outputs": [
    {
     "name": "stdout",
     "output_type": "stream",
     "text": [
      "Model: \"model\"\n",
      "_________________________________________________________________\n",
      " Layer (type)                Output Shape              Param #   \n",
      "=================================================================\n",
      " input (InputLayer)          [(None, 187)]             0         \n",
      "                                                                 \n",
      " hidden1 (Dense)             (None, 1000)              187000    \n",
      "                                                                 \n",
      " relu1 (ReLU)                (None, 1000)              0         \n",
      "                                                                 \n",
      " output (Dense)              (None, 2)                 2000      \n",
      "                                                                 \n",
      " output_relu (ReLU)          (None, 2)                 0         \n",
      "                                                                 \n",
      "=================================================================\n",
      "Total params: 189,000\n",
      "Trainable params: 189,000\n",
      "Non-trainable params: 0\n",
      "_________________________________________________________________\n"
     ]
    }
   ],
   "source": [
    "loaded_model.summary()"
   ]
  },
  {
   "cell_type": "code",
   "execution_count": 17,
   "metadata": {},
   "outputs": [
    {
     "name": "stdout",
     "output_type": "stream",
     "text": [
      "Layer: input\n",
      "Layer: hidden1\n",
      "[[-4.7883126e-01 -1.0085399e+00  6.9557190e-01 ...  2.9812288e-01\n",
      "  -2.8222498e-01 -4.7676760e-01]\n",
      " [-2.1000419e+00 -2.1185455e+00  5.1899660e-01 ...  6.3216054e-01\n",
      "  -1.3379674e+00 -1.3802923e+00]\n",
      " [-1.3955481e+00 -5.4350328e-01  6.8710476e-01 ... -5.2329820e-01\n",
      "  -9.7336426e-02  4.4509730e-01]\n",
      " ...\n",
      " [ 6.5631783e-01  2.2339928e+00 -1.0271481e+00 ...  5.0112635e-02\n",
      "   4.3523338e-01  2.7520042e-03]\n",
      " [ 5.5825573e-01  1.1445986e+00 -8.2128531e-01 ... -4.6644902e-01\n",
      "   4.6908402e-01  2.1900421e-01]\n",
      " [ 1.0479628e+00  3.1595964e+00 -1.1322427e+00 ... -2.7734637e-01\n",
      "   6.8049937e-01 -3.9929610e-01]]\n",
      "Layer: relu1\n",
      "Layer: output\n",
      "[[-0.520808    0.44594646]\n",
      " [-0.5810289   0.6468107 ]\n",
      " [ 0.3990503  -0.4045053 ]\n",
      " ...\n",
      " [ 0.33933774 -0.20098811]\n",
      " [-0.64021105  0.8286197 ]\n",
      " [ 0.13931262 -0.16964607]]\n",
      "Layer: output_relu\n"
     ]
    }
   ],
   "source": [
    "# 로드된 모델의 가중치 확인\n",
    "for layer in loaded_model.layers:\n",
    "    weights = layer.get_weights()\n",
    "    print(f\"Layer: {layer.name}\")\n",
    "    for temp_weight in weights:\n",
    "        print(temp_weight)\n"
   ]
  }
 ],
 "metadata": {
  "kernelspec": {
   "display_name": "keras_conversion",
   "language": "python",
   "name": "python3"
  },
  "language_info": {
   "codemirror_mode": {
    "name": "ipython",
    "version": 3
   },
   "file_extension": ".py",
   "mimetype": "text/x-python",
   "name": "python",
   "nbconvert_exporter": "python",
   "pygments_lexer": "ipython3",
   "version": "3.8.18"
  }
 },
 "nbformat": 4,
 "nbformat_minor": 2
}
