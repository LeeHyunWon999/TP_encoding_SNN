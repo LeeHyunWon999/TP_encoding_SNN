{
 "cells": [
  {
   "cell_type": "markdown",
   "metadata": {},
   "source": [
    "# keras conversion code\n",
    "\n",
    "SNN 모델을 저장하되, IF 레이어는 ReLU로 바꿔서 저장하도록 한다. 대신 IF 레이어의 설정값은 따로 찍어서 보내기."
   ]
  },
  {
   "cell_type": "code",
   "execution_count": 1,
   "metadata": {},
   "outputs": [],
   "source": [
    "# path = '/data/hongwonseok/ECG-SNN/KIST/MLP/MLP_binary_NO_BatchNorm.pth'\n",
    "\n",
    "path = '/home/hschoi/data/leehyunwon/ECG-SNN/SNN_MLP_ver5_poisson_binary_encoders187_hidden1000_encoderGradTrue_early30_lr0.001_threshold1.0_2024_09_12_05_09_45.pt'\n",
    " \n",
    " "
   ]
  },
  {
   "cell_type": "code",
   "execution_count": 2,
   "metadata": {},
   "outputs": [
    {
     "name": "stderr",
     "output_type": "stream",
     "text": [
      "/tmp/ipykernel_934652/3090495766.py:3: FutureWarning: You are using `torch.load` with `weights_only=False` (the current default value), which uses the default pickle module implicitly. It is possible to construct malicious pickle data which will execute arbitrary code during unpickling (See https://github.com/pytorch/pytorch/blob/main/SECURITY.md#untrusted-models for more details). In a future release, the default value for `weights_only` will be flipped to `True`. This limits the functions that could be executed during unpickling. Arbitrary objects will no longer be allowed to be loaded via this mode unless they are explicitly allowlisted by the user via `torch.serialization.add_safe_globals`. We recommend you start setting `weights_only=True` for any use case where you don't have full control of the loaded file. Please open an issue on GitHub for any issues related to this experimental feature.\n",
      "  model = torch.load(path)\n"
     ]
    },
    {
     "data": {
      "text/plain": [
       "{'epoch': 66,\n",
       " 'model_state_dict': OrderedDict([('hidden.0.weight',\n",
       "               tensor([[ 0.0231,  0.0119, -0.0370,  ..., -0.2979, -0.2210, -0.2029],\n",
       "                       [ 0.1685,  0.0485, -0.0253,  ...,  0.2048,  0.1987,  0.2106],\n",
       "                       [ 0.1356, -0.1939,  0.3692,  ..., -0.0627, -0.1177,  0.1197],\n",
       "                       ...,\n",
       "                       [-0.1195, -0.1124,  0.0281,  ..., -0.1612, -0.3343, -0.3164],\n",
       "                       [ 0.0059, -0.0585, -0.0193,  ..., -0.1536, -0.1007, -0.1129],\n",
       "                       [-0.2445, -0.2495, -0.0261,  ..., -0.1434, -0.2190, -0.2391]],\n",
       "                      device='cuda:0')),\n",
       "              ('hidden2.0.weight',\n",
       "               tensor([[-0.2143,  0.1613,  0.0040,  ..., -0.0696, -0.0372, -0.0293],\n",
       "                       [-0.0996, -0.0811,  0.1295,  ..., -0.2103, -0.0992, -0.2512],\n",
       "                       [-0.0976, -0.0391, -0.0138,  ...,  0.0792, -0.0135,  0.2290],\n",
       "                       ...,\n",
       "                       [ 0.0669,  0.1280, -0.2703,  ..., -0.1944,  0.0026,  0.0127],\n",
       "                       [-0.3390, -0.0237, -0.1034,  ...,  0.0072, -0.0205, -0.0101],\n",
       "                       [-0.0139,  0.1176,  0.1325,  ..., -0.0490,  0.0007,  0.0116]],\n",
       "                      device='cuda:0')),\n",
       "              ('layer.0.weight',\n",
       "               tensor([[ 0.0785, -0.1658, -0.2552,  ...,  0.1661, -0.0264,  0.1515],\n",
       "                       [-0.0802,  0.2762,  0.3408,  ..., -0.1816, -0.0045, -0.0959]],\n",
       "                      device='cuda:0'))]),\n",
       " 'optimizer_state_dict': {'state': {0: {'step': tensor(45828.),\n",
       "    'exp_avg': tensor([[-1.9503e-05,  2.5272e-06,  2.1439e-05,  ..., -3.1503e-07,\n",
       "              6.1673e-07,  7.8199e-07],\n",
       "            [ 4.1938e-04,  3.3682e-04,  2.3562e-04,  ...,  6.3276e-10,\n",
       "              4.3243e-09,  1.4695e-08],\n",
       "            [-4.5354e-05,  2.4833e-05,  3.4602e-05,  ...,  9.4786e-09,\n",
       "              2.0313e-09, -1.3044e-08],\n",
       "            ...,\n",
       "            [ 2.5387e-05,  7.9715e-05,  4.5191e-05,  ..., -2.1005e-08,\n",
       "             -9.5681e-10,  6.0347e-09],\n",
       "            [ 2.4250e-07,  7.8096e-08,  2.4248e-07,  ...,  2.6052e-10,\n",
       "             -1.1890e-10,  2.6752e-10],\n",
       "            [-7.2873e-05, -6.9419e-05, -6.7311e-05,  ..., -1.0993e-08,\n",
       "              2.7840e-08, -1.6725e-09]], device='cuda:0'),\n",
       "    'exp_avg_sq': tensor([[1.9531e-06, 1.4457e-06, 4.3711e-07,  ..., 5.5592e-10, 4.6082e-10,\n",
       "             4.5333e-10],\n",
       "            [8.9854e-06, 6.3290e-06, 2.2704e-06,  ..., 3.8912e-10, 1.7998e-09,\n",
       "             4.6389e-09],\n",
       "            [3.7092e-06, 2.6055e-06, 1.3859e-06,  ..., 1.2622e-10, 2.0417e-10,\n",
       "             3.2819e-10],\n",
       "            ...,\n",
       "            [2.2628e-06, 1.5772e-06, 6.9153e-07,  ..., 1.9361e-13, 1.4506e-13,\n",
       "             1.9018e-13],\n",
       "            [4.8917e-11, 3.3262e-11, 1.0627e-11,  ..., 1.2333e-16, 1.5856e-16,\n",
       "             3.7609e-16],\n",
       "            [7.3056e-06, 5.9794e-06, 2.0869e-06,  ..., 3.0308e-11, 2.0020e-11,\n",
       "             1.8617e-11]], device='cuda:0')},\n",
       "   1: {'step': tensor(45828.),\n",
       "    'exp_avg': tensor([[ 3.5575e-05,  1.7785e-08,  1.5069e-05,  ...,  2.8841e-07,\n",
       "              5.6052e-45, -1.1160e-06],\n",
       "            [-1.9600e-06,  1.1152e-10, -8.2973e-06,  ...,  4.7260e-08,\n",
       "              5.6052e-45,  7.7904e-08],\n",
       "            [-1.7109e-04,  5.4220e-11, -3.4192e-05,  ..., -3.4746e-06,\n",
       "              5.6052e-45, -5.7525e-06],\n",
       "            ...,\n",
       "            [-1.3427e-05, -1.4413e-08, -1.6207e-06,  ...,  6.8186e-07,\n",
       "             -5.6052e-45, -4.4183e-06],\n",
       "            [-1.4623e-10,  4.4489e-13,  3.2465e-11,  ..., -3.0824e-12,\n",
       "              5.6052e-45,  2.4477e-11],\n",
       "            [ 1.9347e-05,  3.4126e-08,  4.1323e-06,  ...,  2.8083e-07,\n",
       "             -5.6052e-45, -3.7488e-07]], device='cuda:0'),\n",
       "    'exp_avg_sq': tensor([[8.4808e-09, 6.2338e-13, 5.4390e-10,  ..., 7.6357e-11, 1.1083e-29,\n",
       "             3.3402e-10],\n",
       "            [4.8623e-08, 2.8936e-15, 1.1118e-09,  ..., 4.6889e-12, 2.5925e-29,\n",
       "             3.7173e-10],\n",
       "            [3.7719e-08, 3.8936e-16, 1.8978e-09,  ..., 4.5062e-10, 3.0951e-29,\n",
       "             2.7572e-09],\n",
       "            ...,\n",
       "            [2.3580e-08, 4.3164e-13, 9.1068e-11,  ..., 1.5326e-10, 8.3118e-29,\n",
       "             5.0718e-10],\n",
       "            [1.4086e-18, 1.1735e-22, 1.6912e-19,  ..., 3.3636e-20, 2.2130e-29,\n",
       "             1.3693e-19],\n",
       "            [1.2738e-08, 1.1971e-12, 1.1426e-09,  ..., 5.7987e-11, 2.5373e-29,\n",
       "             1.2235e-10]], device='cuda:0')},\n",
       "   2: {'step': tensor(45828.),\n",
       "    'exp_avg': tensor([[-1.3608e-04,  1.8191e-04,  3.3640e-05,  ...,  9.5425e-07,\n",
       "              0.0000e+00,  2.5561e-05],\n",
       "            [ 1.2953e-04, -7.8826e-06, -6.9842e-05,  ...,  5.2412e-05,\n",
       "              0.0000e+00, -2.4216e-04]], device='cuda:0'),\n",
       "    'exp_avg_sq': tensor([[1.4908e-06, 3.4050e-07, 4.3704e-07,  ..., 1.2952e-07, 0.0000e+00,\n",
       "             2.1102e-07],\n",
       "            [2.0189e-06, 2.6564e-07, 2.2577e-07,  ..., 3.9672e-07, 0.0000e+00,\n",
       "             6.0015e-07]], device='cuda:0')}},\n",
       "  'param_groups': [{'lr': 0.0003520365877844002,\n",
       "    'betas': (0.9, 0.999),\n",
       "    'eps': 1e-08,\n",
       "    'weight_decay': 0,\n",
       "    'amsgrad': False,\n",
       "    'maximize': False,\n",
       "    'foreach': None,\n",
       "    'capturable': False,\n",
       "    'differentiable': False,\n",
       "    'fused': None,\n",
       "    'initial_lr': 0.001,\n",
       "    'params': [0, 1, 2]}]},\n",
       " 'loss': 0.023605293697781034}"
      ]
     },
     "execution_count": 2,
     "metadata": {},
     "output_type": "execute_result"
    }
   ],
   "source": [
    "import torch\n",
    "\n",
    "model = torch.load(path)\n",
    "model"
   ]
  },
  {
   "cell_type": "code",
   "execution_count": 3,
   "metadata": {},
   "outputs": [
    {
     "data": {
      "text/plain": [
       "OrderedDict([('hidden.0.weight',\n",
       "              tensor([[ 0.0231,  0.0119, -0.0370,  ..., -0.2979, -0.2210, -0.2029],\n",
       "                      [ 0.1685,  0.0485, -0.0253,  ...,  0.2048,  0.1987,  0.2106],\n",
       "                      [ 0.1356, -0.1939,  0.3692,  ..., -0.0627, -0.1177,  0.1197],\n",
       "                      ...,\n",
       "                      [-0.1195, -0.1124,  0.0281,  ..., -0.1612, -0.3343, -0.3164],\n",
       "                      [ 0.0059, -0.0585, -0.0193,  ..., -0.1536, -0.1007, -0.1129],\n",
       "                      [-0.2445, -0.2495, -0.0261,  ..., -0.1434, -0.2190, -0.2391]],\n",
       "                     device='cuda:0')),\n",
       "             ('hidden2.0.weight',\n",
       "              tensor([[-0.2143,  0.1613,  0.0040,  ..., -0.0696, -0.0372, -0.0293],\n",
       "                      [-0.0996, -0.0811,  0.1295,  ..., -0.2103, -0.0992, -0.2512],\n",
       "                      [-0.0976, -0.0391, -0.0138,  ...,  0.0792, -0.0135,  0.2290],\n",
       "                      ...,\n",
       "                      [ 0.0669,  0.1280, -0.2703,  ..., -0.1944,  0.0026,  0.0127],\n",
       "                      [-0.3390, -0.0237, -0.1034,  ...,  0.0072, -0.0205, -0.0101],\n",
       "                      [-0.0139,  0.1176,  0.1325,  ..., -0.0490,  0.0007,  0.0116]],\n",
       "                     device='cuda:0')),\n",
       "             ('layer.0.weight',\n",
       "              tensor([[ 0.0785, -0.1658, -0.2552,  ...,  0.1661, -0.0264,  0.1515],\n",
       "                      [-0.0802,  0.2762,  0.3408,  ..., -0.1816, -0.0045, -0.0959]],\n",
       "                     device='cuda:0'))])"
      ]
     },
     "execution_count": 3,
     "metadata": {},
     "output_type": "execute_result"
    }
   ],
   "source": [
    "weight = model['model_state_dict']\n",
    "weight"
   ]
  },
  {
   "cell_type": "code",
   "execution_count": 4,
   "metadata": {},
   "outputs": [
    {
     "data": {
      "text/plain": [
       "odict_items([('hidden.0.weight', tensor([[ 0.0231,  0.0119, -0.0370,  ..., -0.2979, -0.2210, -0.2029],\n",
       "        [ 0.1685,  0.0485, -0.0253,  ...,  0.2048,  0.1987,  0.2106],\n",
       "        [ 0.1356, -0.1939,  0.3692,  ..., -0.0627, -0.1177,  0.1197],\n",
       "        ...,\n",
       "        [-0.1195, -0.1124,  0.0281,  ..., -0.1612, -0.3343, -0.3164],\n",
       "        [ 0.0059, -0.0585, -0.0193,  ..., -0.1536, -0.1007, -0.1129],\n",
       "        [-0.2445, -0.2495, -0.0261,  ..., -0.1434, -0.2190, -0.2391]],\n",
       "       device='cuda:0')), ('hidden2.0.weight', tensor([[-0.2143,  0.1613,  0.0040,  ..., -0.0696, -0.0372, -0.0293],\n",
       "        [-0.0996, -0.0811,  0.1295,  ..., -0.2103, -0.0992, -0.2512],\n",
       "        [-0.0976, -0.0391, -0.0138,  ...,  0.0792, -0.0135,  0.2290],\n",
       "        ...,\n",
       "        [ 0.0669,  0.1280, -0.2703,  ..., -0.1944,  0.0026,  0.0127],\n",
       "        [-0.3390, -0.0237, -0.1034,  ...,  0.0072, -0.0205, -0.0101],\n",
       "        [-0.0139,  0.1176,  0.1325,  ..., -0.0490,  0.0007,  0.0116]],\n",
       "       device='cuda:0')), ('layer.0.weight', tensor([[ 0.0785, -0.1658, -0.2552,  ...,  0.1661, -0.0264,  0.1515],\n",
       "        [-0.0802,  0.2762,  0.3408,  ..., -0.1816, -0.0045, -0.0959]],\n",
       "       device='cuda:0'))])"
      ]
     },
     "execution_count": 4,
     "metadata": {},
     "output_type": "execute_result"
    }
   ],
   "source": [
    "weight.items()"
   ]
  },
  {
   "cell_type": "code",
   "execution_count": 5,
   "metadata": {},
   "outputs": [
    {
     "name": "stderr",
     "output_type": "stream",
     "text": [
      "2024-09-12 13:23:20.747228: I tensorflow/core/util/port.cc:153] oneDNN custom operations are on. You may see slightly different numerical results due to floating-point round-off errors from different computation orders. To turn them off, set the environment variable `TF_ENABLE_ONEDNN_OPTS=0`.\n",
      "2024-09-12 13:23:20.751763: I external/local_xla/xla/tsl/cuda/cudart_stub.cc:32] Could not find cuda drivers on your machine, GPU will not be used.\n",
      "2024-09-12 13:23:20.764500: E external/local_xla/xla/stream_executor/cuda/cuda_fft.cc:485] Unable to register cuFFT factory: Attempting to register factory for plugin cuFFT when one has already been registered\n",
      "2024-09-12 13:23:20.785956: E external/local_xla/xla/stream_executor/cuda/cuda_dnn.cc:8454] Unable to register cuDNN factory: Attempting to register factory for plugin cuDNN when one has already been registered\n",
      "2024-09-12 13:23:20.791912: E external/local_xla/xla/stream_executor/cuda/cuda_blas.cc:1452] Unable to register cuBLAS factory: Attempting to register factory for plugin cuBLAS when one has already been registered\n",
      "2024-09-12 13:23:20.805695: I tensorflow/core/platform/cpu_feature_guard.cc:210] This TensorFlow binary is optimized to use available CPU instructions in performance-critical operations.\n",
      "To enable the following instructions: AVX2 AVX512F AVX512_VNNI FMA, in other operations, rebuild TensorFlow with the appropriate compiler flags.\n",
      "2024-09-12 13:23:21.886932: W tensorflow/compiler/tf2tensorrt/utils/py_utils.cc:38] TF-TRT Warning: Could not find TensorRT\n"
     ]
    }
   ],
   "source": [
    "import torch\n",
    "import torch.nn as nn\n",
    "import numpy as np\n",
    "import tensorflow as tf\n",
    "from tensorflow.keras.models import Sequential\n",
    "from tensorflow.keras.models import Model\n",
    "from tensorflow.keras.layers import Input, Dense, BatchNormalization, ReLU, Dropout, InputLayer\n",
    "from tensorflow.keras.layers import ZeroPadding1D, Conv1D, BatchNormalization, ReLU, AveragePooling1D, Flatten, Dense"
   ]
  },
  {
   "cell_type": "markdown",
   "metadata": {},
   "source": [
    "일단 GPT에게 변환 코드 예시를 받아놨으니 그걸로 진행해보자.\n",
    "\n",
    "**KIST용으로 바꿀 땐 hidden layer 뉴런 수가 1000개 임에 주의!!!!**"
   ]
  },
  {
   "cell_type": "code",
   "execution_count": 7,
   "metadata": {},
   "outputs": [
    {
     "data": {
      "text/html": [
       "<pre style=\"white-space:pre;overflow-x:auto;line-height:normal;font-family:Menlo,'DejaVu Sans Mono',consolas,'Courier New',monospace\"><span style=\"font-weight: bold\">Model: \"functional_1\"</span>\n",
       "</pre>\n"
      ],
      "text/plain": [
       "\u001b[1mModel: \"functional_1\"\u001b[0m\n"
      ]
     },
     "metadata": {},
     "output_type": "display_data"
    },
    {
     "data": {
      "text/html": [
       "<pre style=\"white-space:pre;overflow-x:auto;line-height:normal;font-family:Menlo,'DejaVu Sans Mono',consolas,'Courier New',monospace\">┏━━━━━━━━━━━━━━━━━━━━━━━━━━━━━━━━━┳━━━━━━━━━━━━━━━━━━━━━━━━┳━━━━━━━━━━━━━━━┓\n",
       "┃<span style=\"font-weight: bold\"> Layer (type)                    </span>┃<span style=\"font-weight: bold\"> Output Shape           </span>┃<span style=\"font-weight: bold\">       Param # </span>┃\n",
       "┡━━━━━━━━━━━━━━━━━━━━━━━━━━━━━━━━━╇━━━━━━━━━━━━━━━━━━━━━━━━╇━━━━━━━━━━━━━━━┩\n",
       "│ input (<span style=\"color: #0087ff; text-decoration-color: #0087ff\">InputLayer</span>)              │ (<span style=\"color: #00d7ff; text-decoration-color: #00d7ff\">None</span>, <span style=\"color: #00af00; text-decoration-color: #00af00\">187</span>)            │             <span style=\"color: #00af00; text-decoration-color: #00af00\">0</span> │\n",
       "├─────────────────────────────────┼────────────────────────┼───────────────┤\n",
       "│ hidden1 (<span style=\"color: #0087ff; text-decoration-color: #0087ff\">Dense</span>)                 │ (<span style=\"color: #00d7ff; text-decoration-color: #00d7ff\">None</span>, <span style=\"color: #00af00; text-decoration-color: #00af00\">1000</span>)           │       <span style=\"color: #00af00; text-decoration-color: #00af00\">187,000</span> │\n",
       "├─────────────────────────────────┼────────────────────────┼───────────────┤\n",
       "│ relu1 (<span style=\"color: #0087ff; text-decoration-color: #0087ff\">ReLU</span>)                    │ (<span style=\"color: #00d7ff; text-decoration-color: #00d7ff\">None</span>, <span style=\"color: #00af00; text-decoration-color: #00af00\">1000</span>)           │             <span style=\"color: #00af00; text-decoration-color: #00af00\">0</span> │\n",
       "├─────────────────────────────────┼────────────────────────┼───────────────┤\n",
       "│ hidden2 (<span style=\"color: #0087ff; text-decoration-color: #0087ff\">Dense</span>)                 │ (<span style=\"color: #00d7ff; text-decoration-color: #00d7ff\">None</span>, <span style=\"color: #00af00; text-decoration-color: #00af00\">1000</span>)           │     <span style=\"color: #00af00; text-decoration-color: #00af00\">1,000,000</span> │\n",
       "├─────────────────────────────────┼────────────────────────┼───────────────┤\n",
       "│ relu2 (<span style=\"color: #0087ff; text-decoration-color: #0087ff\">ReLU</span>)                    │ (<span style=\"color: #00d7ff; text-decoration-color: #00d7ff\">None</span>, <span style=\"color: #00af00; text-decoration-color: #00af00\">1000</span>)           │             <span style=\"color: #00af00; text-decoration-color: #00af00\">0</span> │\n",
       "├─────────────────────────────────┼────────────────────────┼───────────────┤\n",
       "│ output (<span style=\"color: #0087ff; text-decoration-color: #0087ff\">Dense</span>)                  │ (<span style=\"color: #00d7ff; text-decoration-color: #00d7ff\">None</span>, <span style=\"color: #00af00; text-decoration-color: #00af00\">2</span>)              │         <span style=\"color: #00af00; text-decoration-color: #00af00\">2,000</span> │\n",
       "├─────────────────────────────────┼────────────────────────┼───────────────┤\n",
       "│ output_relu (<span style=\"color: #0087ff; text-decoration-color: #0087ff\">ReLU</span>)              │ (<span style=\"color: #00d7ff; text-decoration-color: #00d7ff\">None</span>, <span style=\"color: #00af00; text-decoration-color: #00af00\">2</span>)              │             <span style=\"color: #00af00; text-decoration-color: #00af00\">0</span> │\n",
       "└─────────────────────────────────┴────────────────────────┴───────────────┘\n",
       "</pre>\n"
      ],
      "text/plain": [
       "┏━━━━━━━━━━━━━━━━━━━━━━━━━━━━━━━━━┳━━━━━━━━━━━━━━━━━━━━━━━━┳━━━━━━━━━━━━━━━┓\n",
       "┃\u001b[1m \u001b[0m\u001b[1mLayer (type)                   \u001b[0m\u001b[1m \u001b[0m┃\u001b[1m \u001b[0m\u001b[1mOutput Shape          \u001b[0m\u001b[1m \u001b[0m┃\u001b[1m \u001b[0m\u001b[1m      Param #\u001b[0m\u001b[1m \u001b[0m┃\n",
       "┡━━━━━━━━━━━━━━━━━━━━━━━━━━━━━━━━━╇━━━━━━━━━━━━━━━━━━━━━━━━╇━━━━━━━━━━━━━━━┩\n",
       "│ input (\u001b[38;5;33mInputLayer\u001b[0m)              │ (\u001b[38;5;45mNone\u001b[0m, \u001b[38;5;34m187\u001b[0m)            │             \u001b[38;5;34m0\u001b[0m │\n",
       "├─────────────────────────────────┼────────────────────────┼───────────────┤\n",
       "│ hidden1 (\u001b[38;5;33mDense\u001b[0m)                 │ (\u001b[38;5;45mNone\u001b[0m, \u001b[38;5;34m1000\u001b[0m)           │       \u001b[38;5;34m187,000\u001b[0m │\n",
       "├─────────────────────────────────┼────────────────────────┼───────────────┤\n",
       "│ relu1 (\u001b[38;5;33mReLU\u001b[0m)                    │ (\u001b[38;5;45mNone\u001b[0m, \u001b[38;5;34m1000\u001b[0m)           │             \u001b[38;5;34m0\u001b[0m │\n",
       "├─────────────────────────────────┼────────────────────────┼───────────────┤\n",
       "│ hidden2 (\u001b[38;5;33mDense\u001b[0m)                 │ (\u001b[38;5;45mNone\u001b[0m, \u001b[38;5;34m1000\u001b[0m)           │     \u001b[38;5;34m1,000,000\u001b[0m │\n",
       "├─────────────────────────────────┼────────────────────────┼───────────────┤\n",
       "│ relu2 (\u001b[38;5;33mReLU\u001b[0m)                    │ (\u001b[38;5;45mNone\u001b[0m, \u001b[38;5;34m1000\u001b[0m)           │             \u001b[38;5;34m0\u001b[0m │\n",
       "├─────────────────────────────────┼────────────────────────┼───────────────┤\n",
       "│ output (\u001b[38;5;33mDense\u001b[0m)                  │ (\u001b[38;5;45mNone\u001b[0m, \u001b[38;5;34m2\u001b[0m)              │         \u001b[38;5;34m2,000\u001b[0m │\n",
       "├─────────────────────────────────┼────────────────────────┼───────────────┤\n",
       "│ output_relu (\u001b[38;5;33mReLU\u001b[0m)              │ (\u001b[38;5;45mNone\u001b[0m, \u001b[38;5;34m2\u001b[0m)              │             \u001b[38;5;34m0\u001b[0m │\n",
       "└─────────────────────────────────┴────────────────────────┴───────────────┘\n"
      ]
     },
     "metadata": {},
     "output_type": "display_data"
    },
    {
     "data": {
      "text/html": [
       "<pre style=\"white-space:pre;overflow-x:auto;line-height:normal;font-family:Menlo,'DejaVu Sans Mono',consolas,'Courier New',monospace\"><span style=\"font-weight: bold\"> Total params: </span><span style=\"color: #00af00; text-decoration-color: #00af00\">1,189,000</span> (4.54 MB)\n",
       "</pre>\n"
      ],
      "text/plain": [
       "\u001b[1m Total params: \u001b[0m\u001b[38;5;34m1,189,000\u001b[0m (4.54 MB)\n"
      ]
     },
     "metadata": {},
     "output_type": "display_data"
    },
    {
     "data": {
      "text/html": [
       "<pre style=\"white-space:pre;overflow-x:auto;line-height:normal;font-family:Menlo,'DejaVu Sans Mono',consolas,'Courier New',monospace\"><span style=\"font-weight: bold\"> Trainable params: </span><span style=\"color: #00af00; text-decoration-color: #00af00\">1,189,000</span> (4.54 MB)\n",
       "</pre>\n"
      ],
      "text/plain": [
       "\u001b[1m Trainable params: \u001b[0m\u001b[38;5;34m1,189,000\u001b[0m (4.54 MB)\n"
      ]
     },
     "metadata": {},
     "output_type": "display_data"
    },
    {
     "data": {
      "text/html": [
       "<pre style=\"white-space:pre;overflow-x:auto;line-height:normal;font-family:Menlo,'DejaVu Sans Mono',consolas,'Courier New',monospace\"><span style=\"font-weight: bold\"> Non-trainable params: </span><span style=\"color: #00af00; text-decoration-color: #00af00\">0</span> (0.00 B)\n",
       "</pre>\n"
      ],
      "text/plain": [
       "\u001b[1m Non-trainable params: \u001b[0m\u001b[38;5;34m0\u001b[0m (0.00 B)\n"
      ]
     },
     "metadata": {},
     "output_type": "display_data"
    }
   ],
   "source": [
    "import tensorflow as tf\n",
    "from tensorflow.keras.models import Model\n",
    "from tensorflow.keras.layers import Input, Dense, ReLU\n",
    "\n",
    "def create_keras_model_SNN(num_classes, num_encoders, hidden_size, hidden_size_2):\n",
    "    # 입력 레이어 정의\n",
    "    inputs = Input(shape=(num_encoders,), name='input')\n",
    "    \n",
    "    # 첫 번째 히든 레이어\n",
    "    x = Dense(hidden_size, use_bias=False, name='hidden1')(inputs)\n",
    "    x = ReLU(name='relu1')(x)\n",
    "    \n",
    "    # 두 번째 히든 레이어\n",
    "    x = Dense(hidden_size_2, use_bias=False, name='hidden2')(x)\n",
    "    x = ReLU(name='relu2')(x)\n",
    "    \n",
    "    # 출력 레이어\n",
    "    predictions = Dense(num_classes, use_bias=False, name='output')(x)\n",
    "    predictions = ReLU(name='output_relu')(predictions)  # IFNode를 ReLU로 치환\n",
    "\n",
    "    # 모델 생성\n",
    "    model = Model(inputs=inputs, outputs=predictions)\n",
    "    \n",
    "    return model\n",
    "\n",
    "# 모델 생성 예시\n",
    "keras_model = create_keras_model_SNN(num_classes=2, num_encoders=187, hidden_size=1000, hidden_size_2=1000)\n",
    "\n",
    "# 모델 구조 확인\n",
    "keras_model.summary()"
   ]
  },
  {
   "cell_type": "code",
   "execution_count": 9,
   "metadata": {},
   "outputs": [
    {
     "name": "stdout",
     "output_type": "stream",
     "text": [
      "Layer: input\n",
      "Layer: hidden1\n",
      "[[ 0.0103347   0.05068844 -0.06189962 ... -0.04612438 -0.0644438\n",
      "   0.03493562]\n",
      " [-0.04433578 -0.05693173 -0.01969697 ... -0.04005923  0.06866184\n",
      "   0.00738701]\n",
      " [-0.05696339 -0.01744635 -0.01025654 ... -0.02179777 -0.02748502\n",
      "   0.01735427]\n",
      " ...\n",
      " [-0.06663925 -0.05753145  0.0624495  ...  0.06952663 -0.00921234\n",
      "   0.0312437 ]\n",
      " [ 0.04054857  0.00584842  0.04294197 ... -0.0551069  -0.01249029\n",
      "  -0.0577582 ]\n",
      " [-0.05536159  0.06312518  0.01701386 ... -0.03947213 -0.01049097\n",
      "  -0.04536577]]\n",
      "Layer: relu1\n",
      "Layer: hidden2\n",
      "[[ 0.01954382  0.02189889  0.04611427 ... -0.01125864  0.03846181\n",
      "  -0.00662447]\n",
      " [ 0.03167409 -0.03980071 -0.01605011 ...  0.03196427  0.03466277\n",
      "  -0.03194277]\n",
      " [-0.03750982  0.01401582 -0.03510468 ...  0.04383923 -0.04001586\n",
      "  -0.02558376]\n",
      " ...\n",
      " [ 0.03669073 -0.01300453 -0.01461833 ... -0.00408691  0.01004397\n",
      "  -0.0544884 ]\n",
      " [ 0.03594805  0.00754733 -0.05413356 ... -0.04999237 -0.02942714\n",
      "   0.00872013]\n",
      " [ 0.01409571  0.04311765 -0.04740681 ... -0.03350149  0.03231386\n",
      "   0.05340702]]\n",
      "Layer: relu2\n",
      "Layer: output\n",
      "[[ 0.04997522 -0.05812968]\n",
      " [-0.06321145 -0.03069326]\n",
      " [ 0.06100093  0.01422999]\n",
      " ...\n",
      " [-0.07541277 -0.00357625]\n",
      " [-0.03011902 -0.03275308]\n",
      " [-0.04727811  0.06203203]]\n",
      "Layer: output_relu\n"
     ]
    }
   ],
   "source": [
    "# keras 모델의 초기 가중치 확인\n",
    "for layer in keras_model.layers:\n",
    "    weights = layer.get_weights()\n",
    "    print(f\"Layer: {layer.name}\")\n",
    "    for temp_weight in weights:\n",
    "        print(temp_weight)"
   ]
  },
  {
   "cell_type": "markdown",
   "metadata": {},
   "source": [
    "가중치 추출하고 케라스 모델에 대입하기\n",
    "\n",
    "왜인진 모르겠지만 cuda 커널 이미지가 안맞는다 하다가 또 된다고 하다가 그런다. 일단 시도해서 될 때 계속 진행하도록 한다."
   ]
  },
  {
   "cell_type": "code",
   "execution_count": 13,
   "metadata": {},
   "outputs": [
    {
     "name": "stdout",
     "output_type": "stream",
     "text": [
      "2.4.0\n",
      "11.8\n",
      "True\n"
     ]
    },
    {
     "data": {
      "text/html": [
       "<pre style=\"white-space:pre;overflow-x:auto;line-height:normal;font-family:Menlo,'DejaVu Sans Mono',consolas,'Courier New',monospace\"><span style=\"font-weight: bold\">Model: \"functional_1\"</span>\n",
       "</pre>\n"
      ],
      "text/plain": [
       "\u001b[1mModel: \"functional_1\"\u001b[0m\n"
      ]
     },
     "metadata": {},
     "output_type": "display_data"
    },
    {
     "data": {
      "text/html": [
       "<pre style=\"white-space:pre;overflow-x:auto;line-height:normal;font-family:Menlo,'DejaVu Sans Mono',consolas,'Courier New',monospace\">┏━━━━━━━━━━━━━━━━━━━━━━━━━━━━━━━━━┳━━━━━━━━━━━━━━━━━━━━━━━━┳━━━━━━━━━━━━━━━┓\n",
       "┃<span style=\"font-weight: bold\"> Layer (type)                    </span>┃<span style=\"font-weight: bold\"> Output Shape           </span>┃<span style=\"font-weight: bold\">       Param # </span>┃\n",
       "┡━━━━━━━━━━━━━━━━━━━━━━━━━━━━━━━━━╇━━━━━━━━━━━━━━━━━━━━━━━━╇━━━━━━━━━━━━━━━┩\n",
       "│ input (<span style=\"color: #0087ff; text-decoration-color: #0087ff\">InputLayer</span>)              │ (<span style=\"color: #00d7ff; text-decoration-color: #00d7ff\">None</span>, <span style=\"color: #00af00; text-decoration-color: #00af00\">187</span>)            │             <span style=\"color: #00af00; text-decoration-color: #00af00\">0</span> │\n",
       "├─────────────────────────────────┼────────────────────────┼───────────────┤\n",
       "│ hidden1 (<span style=\"color: #0087ff; text-decoration-color: #0087ff\">Dense</span>)                 │ (<span style=\"color: #00d7ff; text-decoration-color: #00d7ff\">None</span>, <span style=\"color: #00af00; text-decoration-color: #00af00\">1000</span>)           │       <span style=\"color: #00af00; text-decoration-color: #00af00\">187,000</span> │\n",
       "├─────────────────────────────────┼────────────────────────┼───────────────┤\n",
       "│ relu1 (<span style=\"color: #0087ff; text-decoration-color: #0087ff\">ReLU</span>)                    │ (<span style=\"color: #00d7ff; text-decoration-color: #00d7ff\">None</span>, <span style=\"color: #00af00; text-decoration-color: #00af00\">1000</span>)           │             <span style=\"color: #00af00; text-decoration-color: #00af00\">0</span> │\n",
       "├─────────────────────────────────┼────────────────────────┼───────────────┤\n",
       "│ hidden2 (<span style=\"color: #0087ff; text-decoration-color: #0087ff\">Dense</span>)                 │ (<span style=\"color: #00d7ff; text-decoration-color: #00d7ff\">None</span>, <span style=\"color: #00af00; text-decoration-color: #00af00\">1000</span>)           │     <span style=\"color: #00af00; text-decoration-color: #00af00\">1,000,000</span> │\n",
       "├─────────────────────────────────┼────────────────────────┼───────────────┤\n",
       "│ relu2 (<span style=\"color: #0087ff; text-decoration-color: #0087ff\">ReLU</span>)                    │ (<span style=\"color: #00d7ff; text-decoration-color: #00d7ff\">None</span>, <span style=\"color: #00af00; text-decoration-color: #00af00\">1000</span>)           │             <span style=\"color: #00af00; text-decoration-color: #00af00\">0</span> │\n",
       "├─────────────────────────────────┼────────────────────────┼───────────────┤\n",
       "│ output (<span style=\"color: #0087ff; text-decoration-color: #0087ff\">Dense</span>)                  │ (<span style=\"color: #00d7ff; text-decoration-color: #00d7ff\">None</span>, <span style=\"color: #00af00; text-decoration-color: #00af00\">2</span>)              │         <span style=\"color: #00af00; text-decoration-color: #00af00\">2,000</span> │\n",
       "├─────────────────────────────────┼────────────────────────┼───────────────┤\n",
       "│ output_relu (<span style=\"color: #0087ff; text-decoration-color: #0087ff\">ReLU</span>)              │ (<span style=\"color: #00d7ff; text-decoration-color: #00d7ff\">None</span>, <span style=\"color: #00af00; text-decoration-color: #00af00\">2</span>)              │             <span style=\"color: #00af00; text-decoration-color: #00af00\">0</span> │\n",
       "└─────────────────────────────────┴────────────────────────┴───────────────┘\n",
       "</pre>\n"
      ],
      "text/plain": [
       "┏━━━━━━━━━━━━━━━━━━━━━━━━━━━━━━━━━┳━━━━━━━━━━━━━━━━━━━━━━━━┳━━━━━━━━━━━━━━━┓\n",
       "┃\u001b[1m \u001b[0m\u001b[1mLayer (type)                   \u001b[0m\u001b[1m \u001b[0m┃\u001b[1m \u001b[0m\u001b[1mOutput Shape          \u001b[0m\u001b[1m \u001b[0m┃\u001b[1m \u001b[0m\u001b[1m      Param #\u001b[0m\u001b[1m \u001b[0m┃\n",
       "┡━━━━━━━━━━━━━━━━━━━━━━━━━━━━━━━━━╇━━━━━━━━━━━━━━━━━━━━━━━━╇━━━━━━━━━━━━━━━┩\n",
       "│ input (\u001b[38;5;33mInputLayer\u001b[0m)              │ (\u001b[38;5;45mNone\u001b[0m, \u001b[38;5;34m187\u001b[0m)            │             \u001b[38;5;34m0\u001b[0m │\n",
       "├─────────────────────────────────┼────────────────────────┼───────────────┤\n",
       "│ hidden1 (\u001b[38;5;33mDense\u001b[0m)                 │ (\u001b[38;5;45mNone\u001b[0m, \u001b[38;5;34m1000\u001b[0m)           │       \u001b[38;5;34m187,000\u001b[0m │\n",
       "├─────────────────────────────────┼────────────────────────┼───────────────┤\n",
       "│ relu1 (\u001b[38;5;33mReLU\u001b[0m)                    │ (\u001b[38;5;45mNone\u001b[0m, \u001b[38;5;34m1000\u001b[0m)           │             \u001b[38;5;34m0\u001b[0m │\n",
       "├─────────────────────────────────┼────────────────────────┼───────────────┤\n",
       "│ hidden2 (\u001b[38;5;33mDense\u001b[0m)                 │ (\u001b[38;5;45mNone\u001b[0m, \u001b[38;5;34m1000\u001b[0m)           │     \u001b[38;5;34m1,000,000\u001b[0m │\n",
       "├─────────────────────────────────┼────────────────────────┼───────────────┤\n",
       "│ relu2 (\u001b[38;5;33mReLU\u001b[0m)                    │ (\u001b[38;5;45mNone\u001b[0m, \u001b[38;5;34m1000\u001b[0m)           │             \u001b[38;5;34m0\u001b[0m │\n",
       "├─────────────────────────────────┼────────────────────────┼───────────────┤\n",
       "│ output (\u001b[38;5;33mDense\u001b[0m)                  │ (\u001b[38;5;45mNone\u001b[0m, \u001b[38;5;34m2\u001b[0m)              │         \u001b[38;5;34m2,000\u001b[0m │\n",
       "├─────────────────────────────────┼────────────────────────┼───────────────┤\n",
       "│ output_relu (\u001b[38;5;33mReLU\u001b[0m)              │ (\u001b[38;5;45mNone\u001b[0m, \u001b[38;5;34m2\u001b[0m)              │             \u001b[38;5;34m0\u001b[0m │\n",
       "└─────────────────────────────────┴────────────────────────┴───────────────┘\n"
      ]
     },
     "metadata": {},
     "output_type": "display_data"
    },
    {
     "data": {
      "text/html": [
       "<pre style=\"white-space:pre;overflow-x:auto;line-height:normal;font-family:Menlo,'DejaVu Sans Mono',consolas,'Courier New',monospace\"><span style=\"font-weight: bold\"> Total params: </span><span style=\"color: #00af00; text-decoration-color: #00af00\">1,189,000</span> (4.54 MB)\n",
       "</pre>\n"
      ],
      "text/plain": [
       "\u001b[1m Total params: \u001b[0m\u001b[38;5;34m1,189,000\u001b[0m (4.54 MB)\n"
      ]
     },
     "metadata": {},
     "output_type": "display_data"
    },
    {
     "data": {
      "text/html": [
       "<pre style=\"white-space:pre;overflow-x:auto;line-height:normal;font-family:Menlo,'DejaVu Sans Mono',consolas,'Courier New',monospace\"><span style=\"font-weight: bold\"> Trainable params: </span><span style=\"color: #00af00; text-decoration-color: #00af00\">1,189,000</span> (4.54 MB)\n",
       "</pre>\n"
      ],
      "text/plain": [
       "\u001b[1m Trainable params: \u001b[0m\u001b[38;5;34m1,189,000\u001b[0m (4.54 MB)\n"
      ]
     },
     "metadata": {},
     "output_type": "display_data"
    },
    {
     "data": {
      "text/html": [
       "<pre style=\"white-space:pre;overflow-x:auto;line-height:normal;font-family:Menlo,'DejaVu Sans Mono',consolas,'Courier New',monospace\"><span style=\"font-weight: bold\"> Non-trainable params: </span><span style=\"color: #00af00; text-decoration-color: #00af00\">0</span> (0.00 B)\n",
       "</pre>\n"
      ],
      "text/plain": [
       "\u001b[1m Non-trainable params: \u001b[0m\u001b[38;5;34m0\u001b[0m (0.00 B)\n"
      ]
     },
     "metadata": {},
     "output_type": "display_data"
    }
   ],
   "source": [
    "import torch\n",
    "print(torch.__version__)  # PyTorch 버전 확인\n",
    "print(torch.version.cuda)  # CUDA 버전 확인\n",
    "print(torch.cuda.is_available())  # CUDA 사용 가능 여부 확인\n",
    "\n",
    "!export CUDA_LAUNCH_BLOCKING=1\n",
    "\n",
    "# PyTorch에서 가중치 추출 및 Keras에 적용\n",
    "pt_weights = {k: v.cpu().numpy() for k, v in weight.items()}\n",
    "\n",
    "# Keras 가중치 설정\n",
    "# pytorch의 모델 가중치는 (출력, 입력) 순서로 저장되고 케라스는 그 반대이므로 Transpose 필요\n",
    "keras_model.get_layer('hidden1').set_weights([pt_weights['hidden.0.weight'].T]) # bias 빼기!\n",
    "keras_model.get_layer('hidden2').set_weights([pt_weights['hidden2.0.weight'].T])\n",
    "keras_model.get_layer('output').set_weights([pt_weights['layer.0.weight'].T])\n",
    "\n",
    "# 잘 들어갔나 확인?\n",
    "keras_model.summary()"
   ]
  },
  {
   "cell_type": "code",
   "execution_count": 14,
   "metadata": {},
   "outputs": [
    {
     "name": "stderr",
     "output_type": "stream",
     "text": [
      "WARNING:absl:You are saving your model as an HDF5 file via `model.save()` or `keras.saving.save_model(model)`. This file format is considered legacy. We recommend using instead the native Keras format, e.g. `model.save('my_model.keras')` or `keras.saving.save_model(model, 'my_model.keras')`. \n"
     ]
    }
   ],
   "source": [
    "# 모델 저장\n",
    "keras_model.save('poisson_1000_converted_model.h5')"
   ]
  },
  {
   "cell_type": "code",
   "execution_count": 15,
   "metadata": {},
   "outputs": [
    {
     "name": "stdout",
     "output_type": "stream",
     "text": [
      "Layer: input\n",
      "Layer: hidden1\n",
      "[[ 0.02307094  0.16853595  0.1356288  ... -0.11953812  0.00585862\n",
      "  -0.24453036]\n",
      " [ 0.01194622  0.04850474 -0.19393311 ... -0.11237578 -0.05853188\n",
      "  -0.24945214]\n",
      " [-0.0369759  -0.02532746  0.36918268 ...  0.02813624 -0.0193215\n",
      "  -0.02611096]\n",
      " ...\n",
      " [-0.2978546   0.20477739 -0.06271742 ... -0.16116704 -0.15358803\n",
      "  -0.14336602]\n",
      " [-0.22104879  0.1987174  -0.11765699 ... -0.3342545  -0.10068992\n",
      "  -0.21899201]\n",
      " [-0.2028826   0.21055873  0.11968018 ... -0.31641975 -0.11287399\n",
      "  -0.2390547 ]]\n",
      "Layer: relu1\n",
      "Layer: hidden2\n",
      "[[-0.21434933 -0.09958602 -0.09763815 ...  0.06691882 -0.33902758\n",
      "  -0.01391515]\n",
      " [ 0.16128036 -0.0811445  -0.03911572 ...  0.12797529 -0.02365707\n",
      "   0.11760265]\n",
      " [ 0.00403396  0.12954617 -0.01377724 ... -0.2703215  -0.10340067\n",
      "   0.13247395]\n",
      " ...\n",
      " [-0.06958194 -0.2103122   0.07921408 ... -0.19442059  0.00717742\n",
      "  -0.0489803 ]\n",
      " [-0.03720324 -0.09917426 -0.0134587  ...  0.0026057  -0.02053288\n",
      "   0.00066729]\n",
      " [-0.02934875 -0.25123113  0.22900324 ...  0.01271492 -0.01009054\n",
      "   0.01163913]]\n",
      "Layer: relu2\n",
      "Layer: output\n",
      "[[ 0.07851819 -0.08024026]\n",
      " [-0.16579266  0.27618608]\n",
      " [-0.25521195  0.34082267]\n",
      " ...\n",
      " [ 0.16605245 -0.18162537]\n",
      " [-0.0263555  -0.00448761]\n",
      " [ 0.15149616 -0.09586165]]\n",
      "Layer: output_relu\n"
     ]
    }
   ],
   "source": [
    "# 모델의 가중치 확인\n",
    "for layer in keras_model.layers:\n",
    "    weights = layer.get_weights()\n",
    "    print(f\"Layer: {layer.name}\")\n",
    "    for temp_weight in weights:\n",
    "        print(temp_weight)"
   ]
  },
  {
   "cell_type": "code",
   "execution_count": 16,
   "metadata": {},
   "outputs": [
    {
     "name": "stderr",
     "output_type": "stream",
     "text": [
      "WARNING:absl:No training configuration found in the save file, so the model was *not* compiled. Compile it manually.\n"
     ]
    }
   ],
   "source": [
    "from tensorflow.keras.models import load_model\n",
    "\n",
    "# 저장된 모델 로드\n",
    "loaded_model = load_model('/home/hschoi/leehyunwon/ECG-SNN/to_keras_conversion/poisson_1000_converted_model.h5')\n"
   ]
  },
  {
   "cell_type": "code",
   "execution_count": 17,
   "metadata": {},
   "outputs": [
    {
     "data": {
      "text/html": [
       "<pre style=\"white-space:pre;overflow-x:auto;line-height:normal;font-family:Menlo,'DejaVu Sans Mono',consolas,'Courier New',monospace\"><span style=\"font-weight: bold\">Model: \"functional_1\"</span>\n",
       "</pre>\n"
      ],
      "text/plain": [
       "\u001b[1mModel: \"functional_1\"\u001b[0m\n"
      ]
     },
     "metadata": {},
     "output_type": "display_data"
    },
    {
     "data": {
      "text/html": [
       "<pre style=\"white-space:pre;overflow-x:auto;line-height:normal;font-family:Menlo,'DejaVu Sans Mono',consolas,'Courier New',monospace\">┏━━━━━━━━━━━━━━━━━━━━━━━━━━━━━━━━━┳━━━━━━━━━━━━━━━━━━━━━━━━┳━━━━━━━━━━━━━━━┓\n",
       "┃<span style=\"font-weight: bold\"> Layer (type)                    </span>┃<span style=\"font-weight: bold\"> Output Shape           </span>┃<span style=\"font-weight: bold\">       Param # </span>┃\n",
       "┡━━━━━━━━━━━━━━━━━━━━━━━━━━━━━━━━━╇━━━━━━━━━━━━━━━━━━━━━━━━╇━━━━━━━━━━━━━━━┩\n",
       "│ input (<span style=\"color: #0087ff; text-decoration-color: #0087ff\">InputLayer</span>)              │ (<span style=\"color: #00d7ff; text-decoration-color: #00d7ff\">None</span>, <span style=\"color: #00af00; text-decoration-color: #00af00\">187</span>)            │             <span style=\"color: #00af00; text-decoration-color: #00af00\">0</span> │\n",
       "├─────────────────────────────────┼────────────────────────┼───────────────┤\n",
       "│ hidden1 (<span style=\"color: #0087ff; text-decoration-color: #0087ff\">Dense</span>)                 │ (<span style=\"color: #00d7ff; text-decoration-color: #00d7ff\">None</span>, <span style=\"color: #00af00; text-decoration-color: #00af00\">1000</span>)           │       <span style=\"color: #00af00; text-decoration-color: #00af00\">187,000</span> │\n",
       "├─────────────────────────────────┼────────────────────────┼───────────────┤\n",
       "│ relu1 (<span style=\"color: #0087ff; text-decoration-color: #0087ff\">ReLU</span>)                    │ (<span style=\"color: #00d7ff; text-decoration-color: #00d7ff\">None</span>, <span style=\"color: #00af00; text-decoration-color: #00af00\">1000</span>)           │             <span style=\"color: #00af00; text-decoration-color: #00af00\">0</span> │\n",
       "├─────────────────────────────────┼────────────────────────┼───────────────┤\n",
       "│ hidden2 (<span style=\"color: #0087ff; text-decoration-color: #0087ff\">Dense</span>)                 │ (<span style=\"color: #00d7ff; text-decoration-color: #00d7ff\">None</span>, <span style=\"color: #00af00; text-decoration-color: #00af00\">1000</span>)           │     <span style=\"color: #00af00; text-decoration-color: #00af00\">1,000,000</span> │\n",
       "├─────────────────────────────────┼────────────────────────┼───────────────┤\n",
       "│ relu2 (<span style=\"color: #0087ff; text-decoration-color: #0087ff\">ReLU</span>)                    │ (<span style=\"color: #00d7ff; text-decoration-color: #00d7ff\">None</span>, <span style=\"color: #00af00; text-decoration-color: #00af00\">1000</span>)           │             <span style=\"color: #00af00; text-decoration-color: #00af00\">0</span> │\n",
       "├─────────────────────────────────┼────────────────────────┼───────────────┤\n",
       "│ output (<span style=\"color: #0087ff; text-decoration-color: #0087ff\">Dense</span>)                  │ (<span style=\"color: #00d7ff; text-decoration-color: #00d7ff\">None</span>, <span style=\"color: #00af00; text-decoration-color: #00af00\">2</span>)              │         <span style=\"color: #00af00; text-decoration-color: #00af00\">2,000</span> │\n",
       "├─────────────────────────────────┼────────────────────────┼───────────────┤\n",
       "│ output_relu (<span style=\"color: #0087ff; text-decoration-color: #0087ff\">ReLU</span>)              │ (<span style=\"color: #00d7ff; text-decoration-color: #00d7ff\">None</span>, <span style=\"color: #00af00; text-decoration-color: #00af00\">2</span>)              │             <span style=\"color: #00af00; text-decoration-color: #00af00\">0</span> │\n",
       "└─────────────────────────────────┴────────────────────────┴───────────────┘\n",
       "</pre>\n"
      ],
      "text/plain": [
       "┏━━━━━━━━━━━━━━━━━━━━━━━━━━━━━━━━━┳━━━━━━━━━━━━━━━━━━━━━━━━┳━━━━━━━━━━━━━━━┓\n",
       "┃\u001b[1m \u001b[0m\u001b[1mLayer (type)                   \u001b[0m\u001b[1m \u001b[0m┃\u001b[1m \u001b[0m\u001b[1mOutput Shape          \u001b[0m\u001b[1m \u001b[0m┃\u001b[1m \u001b[0m\u001b[1m      Param #\u001b[0m\u001b[1m \u001b[0m┃\n",
       "┡━━━━━━━━━━━━━━━━━━━━━━━━━━━━━━━━━╇━━━━━━━━━━━━━━━━━━━━━━━━╇━━━━━━━━━━━━━━━┩\n",
       "│ input (\u001b[38;5;33mInputLayer\u001b[0m)              │ (\u001b[38;5;45mNone\u001b[0m, \u001b[38;5;34m187\u001b[0m)            │             \u001b[38;5;34m0\u001b[0m │\n",
       "├─────────────────────────────────┼────────────────────────┼───────────────┤\n",
       "│ hidden1 (\u001b[38;5;33mDense\u001b[0m)                 │ (\u001b[38;5;45mNone\u001b[0m, \u001b[38;5;34m1000\u001b[0m)           │       \u001b[38;5;34m187,000\u001b[0m │\n",
       "├─────────────────────────────────┼────────────────────────┼───────────────┤\n",
       "│ relu1 (\u001b[38;5;33mReLU\u001b[0m)                    │ (\u001b[38;5;45mNone\u001b[0m, \u001b[38;5;34m1000\u001b[0m)           │             \u001b[38;5;34m0\u001b[0m │\n",
       "├─────────────────────────────────┼────────────────────────┼───────────────┤\n",
       "│ hidden2 (\u001b[38;5;33mDense\u001b[0m)                 │ (\u001b[38;5;45mNone\u001b[0m, \u001b[38;5;34m1000\u001b[0m)           │     \u001b[38;5;34m1,000,000\u001b[0m │\n",
       "├─────────────────────────────────┼────────────────────────┼───────────────┤\n",
       "│ relu2 (\u001b[38;5;33mReLU\u001b[0m)                    │ (\u001b[38;5;45mNone\u001b[0m, \u001b[38;5;34m1000\u001b[0m)           │             \u001b[38;5;34m0\u001b[0m │\n",
       "├─────────────────────────────────┼────────────────────────┼───────────────┤\n",
       "│ output (\u001b[38;5;33mDense\u001b[0m)                  │ (\u001b[38;5;45mNone\u001b[0m, \u001b[38;5;34m2\u001b[0m)              │         \u001b[38;5;34m2,000\u001b[0m │\n",
       "├─────────────────────────────────┼────────────────────────┼───────────────┤\n",
       "│ output_relu (\u001b[38;5;33mReLU\u001b[0m)              │ (\u001b[38;5;45mNone\u001b[0m, \u001b[38;5;34m2\u001b[0m)              │             \u001b[38;5;34m0\u001b[0m │\n",
       "└─────────────────────────────────┴────────────────────────┴───────────────┘\n"
      ]
     },
     "metadata": {},
     "output_type": "display_data"
    },
    {
     "data": {
      "text/html": [
       "<pre style=\"white-space:pre;overflow-x:auto;line-height:normal;font-family:Menlo,'DejaVu Sans Mono',consolas,'Courier New',monospace\"><span style=\"font-weight: bold\"> Total params: </span><span style=\"color: #00af00; text-decoration-color: #00af00\">1,189,000</span> (4.54 MB)\n",
       "</pre>\n"
      ],
      "text/plain": [
       "\u001b[1m Total params: \u001b[0m\u001b[38;5;34m1,189,000\u001b[0m (4.54 MB)\n"
      ]
     },
     "metadata": {},
     "output_type": "display_data"
    },
    {
     "data": {
      "text/html": [
       "<pre style=\"white-space:pre;overflow-x:auto;line-height:normal;font-family:Menlo,'DejaVu Sans Mono',consolas,'Courier New',monospace\"><span style=\"font-weight: bold\"> Trainable params: </span><span style=\"color: #00af00; text-decoration-color: #00af00\">1,189,000</span> (4.54 MB)\n",
       "</pre>\n"
      ],
      "text/plain": [
       "\u001b[1m Trainable params: \u001b[0m\u001b[38;5;34m1,189,000\u001b[0m (4.54 MB)\n"
      ]
     },
     "metadata": {},
     "output_type": "display_data"
    },
    {
     "data": {
      "text/html": [
       "<pre style=\"white-space:pre;overflow-x:auto;line-height:normal;font-family:Menlo,'DejaVu Sans Mono',consolas,'Courier New',monospace\"><span style=\"font-weight: bold\"> Non-trainable params: </span><span style=\"color: #00af00; text-decoration-color: #00af00\">0</span> (0.00 B)\n",
       "</pre>\n"
      ],
      "text/plain": [
       "\u001b[1m Non-trainable params: \u001b[0m\u001b[38;5;34m0\u001b[0m (0.00 B)\n"
      ]
     },
     "metadata": {},
     "output_type": "display_data"
    }
   ],
   "source": [
    "loaded_model.summary()"
   ]
  },
  {
   "cell_type": "code",
   "execution_count": 18,
   "metadata": {},
   "outputs": [
    {
     "name": "stdout",
     "output_type": "stream",
     "text": [
      "Layer: input\n",
      "Layer: hidden1\n",
      "[[ 0.02307094  0.16853595  0.1356288  ... -0.11953812  0.00585862\n",
      "  -0.24453036]\n",
      " [ 0.01194622  0.04850474 -0.19393311 ... -0.11237578 -0.05853188\n",
      "  -0.24945214]\n",
      " [-0.0369759  -0.02532746  0.36918268 ...  0.02813624 -0.0193215\n",
      "  -0.02611096]\n",
      " ...\n",
      " [-0.2978546   0.20477739 -0.06271742 ... -0.16116704 -0.15358803\n",
      "  -0.14336602]\n",
      " [-0.22104879  0.1987174  -0.11765699 ... -0.3342545  -0.10068992\n",
      "  -0.21899201]\n",
      " [-0.2028826   0.21055873  0.11968018 ... -0.31641975 -0.11287399\n",
      "  -0.2390547 ]]\n",
      "Layer: relu1\n",
      "Layer: hidden2\n",
      "[[-0.21434933 -0.09958602 -0.09763815 ...  0.06691882 -0.33902758\n",
      "  -0.01391515]\n",
      " [ 0.16128036 -0.0811445  -0.03911572 ...  0.12797529 -0.02365707\n",
      "   0.11760265]\n",
      " [ 0.00403396  0.12954617 -0.01377724 ... -0.2703215  -0.10340067\n",
      "   0.13247395]\n",
      " ...\n",
      " [-0.06958194 -0.2103122   0.07921408 ... -0.19442059  0.00717742\n",
      "  -0.0489803 ]\n",
      " [-0.03720324 -0.09917426 -0.0134587  ...  0.0026057  -0.02053288\n",
      "   0.00066729]\n",
      " [-0.02934875 -0.25123113  0.22900324 ...  0.01271492 -0.01009054\n",
      "   0.01163913]]\n",
      "Layer: relu2\n",
      "Layer: output\n",
      "[[ 0.07851819 -0.08024026]\n",
      " [-0.16579266  0.27618608]\n",
      " [-0.25521195  0.34082267]\n",
      " ...\n",
      " [ 0.16605245 -0.18162537]\n",
      " [-0.0263555  -0.00448761]\n",
      " [ 0.15149616 -0.09586165]]\n",
      "Layer: output_relu\n"
     ]
    }
   ],
   "source": [
    "# 로드된 모델의 가중치 확인\n",
    "for layer in loaded_model.layers:\n",
    "    weights = layer.get_weights()\n",
    "    print(f\"Layer: {layer.name}\")\n",
    "    for temp_weight in weights:\n",
    "        print(temp_weight)\n"
   ]
  }
 ],
 "metadata": {
  "kernelspec": {
   "display_name": "ECG-SNN",
   "language": "python",
   "name": "python3"
  },
  "language_info": {
   "codemirror_mode": {
    "name": "ipython",
    "version": 3
   },
   "file_extension": ".py",
   "mimetype": "text/x-python",
   "name": "python",
   "nbconvert_exporter": "python",
   "pygments_lexer": "ipython3",
   "version": "3.12.4"
  }
 },
 "nbformat": 4,
 "nbformat_minor": 2
}
