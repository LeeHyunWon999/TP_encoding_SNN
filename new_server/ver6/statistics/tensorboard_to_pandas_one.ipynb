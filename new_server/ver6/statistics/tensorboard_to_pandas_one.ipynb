{
 "cells": [
  {
   "cell_type": "markdown",
   "metadata": {},
   "source": [
    "텐서보드로부터 값 뽑아내는 작업.\n",
    "\n",
    "valid_AUROC 기준 최고성능인 epoch의 통계값들을 뽑아내면 된다."
   ]
  },
  {
   "cell_type": "code",
   "execution_count": 1,
   "metadata": {},
   "outputs": [],
   "source": [
    "from tensorboard.backend.event_processing import event_accumulator\n",
    "import pandas as pd"
   ]
  },
  {
   "cell_type": "code",
   "execution_count": 2,
   "metadata": {},
   "outputs": [],
   "source": [
    "# 사전 변수 넣기\n",
    "tensorboard_dir = '/home/hschoi/leehyunwon/ECG-SNN/new_server/ver6/IF/tensorboard/SNN_MLP_ver6_poisson_2024-12-24-00-39-13_fold1'\n",
    "tags = ['train_Loss','train_Accuracy','train_F1_micro','train_F1_weighted','train_AUROC_macro','train_AUROC_weighted','train_auprc', 'valid_Loss','valid_Accuracy','valid_F1_micro','valid_F1_weighted', 'valid_AUROC_macro','valid_AUROC_weighted','valid_auprc']\n",
    "usable_tags = ['valid_Accuracy','valid_F1_micro', 'valid_AUROC_macro', 'valid_auprc']"
   ]
  },
  {
   "cell_type": "code",
   "execution_count": 3,
   "metadata": {},
   "outputs": [
    {
     "name": "stderr",
     "output_type": "stream",
     "text": [
      "2024-12-27 16:25:31.148606: I tensorflow/core/util/port.cc:110] oneDNN custom operations are on. You may see slightly different numerical results due to floating-point round-off errors from different computation orders. To turn them off, set the environment variable `TF_ENABLE_ONEDNN_OPTS=0`.\n",
      "2024-12-27 16:25:31.201075: I tensorflow/core/platform/cpu_feature_guard.cc:182] This TensorFlow binary is optimized to use available CPU instructions in performance-critical operations.\n",
      "To enable the following instructions: AVX2 AVX512F AVX512_VNNI FMA, in other operations, rebuild TensorFlow with the appropriate compiler flags.\n",
      "2024-12-27 16:25:31.975153: W tensorflow/compiler/tf2tensorrt/utils/py_utils.cc:38] TF-TRT Warning: Could not find TensorRT\n"
     ]
    },
    {
     "data": {
      "text/plain": [
       "<tensorboard.backend.event_processing.event_accumulator.EventAccumulator at 0x7f5406be7fa0>"
      ]
     },
     "execution_count": 3,
     "metadata": {},
     "output_type": "execute_result"
    }
   ],
   "source": [
    "# EventAccumulator를 사용하여 이벤트 파일 읽기\n",
    "ea = event_accumulator.EventAccumulator(tensorboard_dir)\n",
    "ea.Reload()"
   ]
  },
  {
   "cell_type": "code",
   "execution_count": 4,
   "metadata": {},
   "outputs": [],
   "source": [
    "# 수집된 데이터를 저장할 딕셔너리\n",
    "data = {}\n",
    "\n",
    "# 각 태그의 데이터를 수집하여 DataFrame 생성\n",
    "for tag in tags:\n",
    "    if tag in ea.Tags()[\"scalars\"]:  # 태그가 존재하는지 확인\n",
    "        events = ea.Scalars(tag)\n",
    "        data[tag] = {\n",
    "            \"epoch\": [event.step for event in events],  # step을 epoch으로 사용\n",
    "            \"value\": [event.value for event in events],\n",
    "        }\n",
    "    else:\n",
    "        print(f\"Tag '{tag}' not found in the TensorBoard logs.\")"
   ]
  },
  {
   "cell_type": "code",
   "execution_count": 5,
   "metadata": {},
   "outputs": [
    {
     "name": "stdout",
     "output_type": "stream",
     "text": [
      "   epoch  train_Loss  train_Accuracy  train_F1_micro  train_F1_weighted  \\\n",
      "0      0    0.185447        0.887826        0.698549           0.698549   \n",
      "1      1    0.122266        0.926403        0.798735           0.798735   \n",
      "2      2    0.105129        0.935558        0.823197           0.823197   \n",
      "3      3    0.095196        0.943056        0.842318           0.842318   \n",
      "4      4    0.089674        0.946141        0.850316           0.850316   \n",
      "\n",
      "   train_AUROC_macro  train_AUROC_weighted  train_auprc  valid_Loss  \\\n",
      "0           0.834035              0.834035     0.777752    0.135281   \n",
      "1           0.894061              0.894061     0.872809    0.117877   \n",
      "2           0.908709              0.908709     0.900859    0.108767   \n",
      "3           0.917951              0.917951     0.915673    0.099419   \n",
      "4           0.921813              0.921813     0.924157    0.095915   \n",
      "\n",
      "   valid_Accuracy  valid_F1_micro  valid_F1_weighted  valid_AUROC_macro  \\\n",
      "0        0.920393        0.777103           0.777103           0.879410   \n",
      "1        0.933927        0.810110           0.810110           0.892645   \n",
      "2        0.929473        0.807722           0.807722           0.906820   \n",
      "3        0.942208        0.836405           0.836405           0.913553   \n",
      "4        0.944720        0.842088           0.842088           0.914263   \n",
      "\n",
      "   valid_AUROC_weighted  valid_auprc  \n",
      "0              0.879410     0.853131  \n",
      "1              0.892645     0.889207  \n",
      "2              0.906820     0.887333  \n",
      "3              0.913553     0.911980  \n",
      "4              0.914263     0.918531  \n"
     ]
    }
   ],
   "source": [
    "# 태그별 데이터프레임 생성 (속성 전환 정도도)\n",
    "dataframes = {tag: pd.DataFrame(values) for tag, values in data.items()}\n",
    "\n",
    "# 단일 데이터프레임으로 병합 (Epoch 기준)\n",
    "merged_df = pd.DataFrame({\"epoch\": dataframes[tags[0]][\"epoch\"]}) # 모든 태그에 동일하게 존재하는 epoch만 따로 빼서 열 값으로 변경경\n",
    "for tag in tags:\n",
    "    if tag in dataframes:\n",
    "        merged_df[tag] = dataframes[tag][\"value\"] # 각 태그의 value 값 이어붙이기\n",
    "\n",
    "# 결과 확인\n",
    "print(merged_df.head())"
   ]
  },
  {
   "cell_type": "markdown",
   "metadata": {},
   "source": [
    "하나의 텐서보드 로그에 대한 추출이 완료되었다. 이제 여기서 당장 필요한 녀석들만 추려보자."
   ]
  },
  {
   "cell_type": "code",
   "execution_count": 6,
   "metadata": {},
   "outputs": [
    {
     "name": "stdout",
     "output_type": "stream",
     "text": [
      "     epoch  valid_Accuracy  valid_AUROC_macro  valid_auprc\n",
      "0        0        0.920393           0.879410     0.853131\n",
      "1        1        0.933927           0.892645     0.889207\n",
      "2        2        0.929473           0.906820     0.887333\n",
      "3        3        0.942208           0.913553     0.911980\n",
      "4        4        0.944720           0.914263     0.918531\n",
      "..     ...             ...                ...          ...\n",
      "295    295        0.981669           0.967822     0.981588\n",
      "296    296        0.981726           0.967588     0.981324\n",
      "297    297        0.980355           0.967298     0.980898\n",
      "298    298        0.980527           0.965261     0.979185\n",
      "299    299        0.978528           0.966866     0.980822\n",
      "\n",
      "[300 rows x 4 columns]\n"
     ]
    }
   ],
   "source": [
    "# 사용할 태그와 존재하는 태그 교집합 계산\n",
    "valid_tags = ['epoch'] + [tag for tag in usable_tags if tag in merged_df.columns]\n",
    "\n",
    "# 교집합을 기반으로 필터링\n",
    "filtered_df = merged_df[valid_tags]\n",
    "\n",
    "print(filtered_df)"
   ]
  },
  {
   "cell_type": "code",
   "execution_count": 7,
   "metadata": {},
   "outputs": [
    {
     "name": "stdout",
     "output_type": "stream",
     "text": [
      "epoch                278.000000\n",
      "valid_Accuracy         0.978356\n",
      "valid_AUROC_macro      0.968770\n",
      "valid_auprc            0.981225\n",
      "Name: 278, dtype: float64\n"
     ]
    }
   ],
   "source": [
    "# 가장 높은 valid_AUROC_macro 값을 갖는 행 추출\n",
    "highest_auroc_row = filtered_df.loc[filtered_df['valid_AUROC_macro'].idxmax()]\n",
    "\n",
    "# 결과 확인\n",
    "print(highest_auroc_row)"
   ]
  },
  {
   "cell_type": "code",
   "execution_count": 8,
   "metadata": {},
   "outputs": [],
   "source": [
    "# 저장(선택사항, 어차피 여기서 바꾸면 바로 나오는데..)\n",
    "# filtered_df.to_csv(\"filtered_tensorboard_data.csv\", index=False)"
   ]
  }
 ],
 "metadata": {
  "kernelspec": {
   "display_name": "ecg_encoding",
   "language": "python",
   "name": "python3"
  },
  "language_info": {
   "codemirror_mode": {
    "name": "ipython",
    "version": 3
   },
   "file_extension": ".py",
   "mimetype": "text/x-python",
   "name": "python",
   "nbconvert_exporter": "python",
   "pygments_lexer": "ipython3",
   "version": "3.8.19"
  }
 },
 "nbformat": 4,
 "nbformat_minor": 2
}
