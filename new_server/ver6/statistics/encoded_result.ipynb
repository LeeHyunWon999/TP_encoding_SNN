{
 "cells": [
  {
   "cell_type": "markdown",
   "metadata": {},
   "source": [
    "poisson, burst, filter_CNN의 인코더 통과 결과를 plot으로 간단히 볼 수 있도록 하는 코드."
   ]
  },
  {
   "cell_type": "code",
   "execution_count": null,
   "metadata": {},
   "outputs": [],
   "source": [
    "# 사전 변수\n",
    "models_dirs = ['/home/hschoi/data/leehyunwon/ECG-SNN/SNN_MLP_ver6_poisson_2024-12-27-13-02-25_fold1_lastEpoch.pt',\n",
    "'/home/hschoi/data/leehyunwon/ECG-SNN/SNN_MLP_ver6_burst_2024-12-26-10-51-06_fold1_lastEpoch.pt',\n",
    "'/home/hschoi/data/leehyunwon/ECG-SNN/SNN_MLP_ver6_filter_CNN_IF_2024-12-27-13-26-50_fold1_lastEpoch.pt']"
   ]
  }
 ],
 "metadata": {
  "kernelspec": {
   "display_name": "ecg_encoding",
   "language": "python",
   "name": "python3"
  },
  "language_info": {
   "name": "python",
   "version": "3.8.19"
  }
 },
 "nbformat": 4,
 "nbformat_minor": 2
}
