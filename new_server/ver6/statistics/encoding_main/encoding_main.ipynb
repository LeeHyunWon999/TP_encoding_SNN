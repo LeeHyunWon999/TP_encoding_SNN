{
 "cells": [
  {
   "cell_type": "markdown",
   "metadata": {},
   "source": [
    "정제한 데이터를 다시 이쪽에 맞게 정제한다."
   ]
  },
  {
   "cell_type": "code",
   "execution_count": 1,
   "metadata": {},
   "outputs": [],
   "source": [
    "# 사전 변수\n",
    "csv_dir = '/home/hschoi/leehyunwon/ECG-SNN/new_server/ver6/statistics/tensorboard_to_pandas/encoding_main_test.csv'\n",
    "savefile_name = 'encoding_refined_output_test.csv'\n",
    "\n",
    "# test 데이터인 경우(inference 시간 측정용)\n",
    "metric_columns = ['valid_Accuracy','valid_F1_micro', 'valid_AUROC_macro', 'valid_auprc', 'elapsed_time']  # 필요한 metric 열 이름 지정\n",
    "\n",
    "# test 데이터 아닌 경우 이거로 지정정\n",
    "# metric_columns = ['valid_Accuracy','valid_F1_micro', 'valid_AUROC_macro', 'valid_auprc']  # 필요한 metric 열 이름 지정"
   ]
  },
  {
   "cell_type": "code",
   "execution_count": 2,
   "metadata": {},
   "outputs": [],
   "source": [
    "import pandas as pd\n",
    "import seaborn as sns\n",
    "import matplotlib.pyplot as plt\n",
    "import numpy as np\n"
   ]
  },
  {
   "cell_type": "code",
   "execution_count": 3,
   "metadata": {},
   "outputs": [
    {
     "name": "stdout",
     "output_type": "stream",
     "text": [
      "                                   time_key  valid_Accuracy  valid_F1_micro  \\\n",
      "0                      SNN-MLP-ver6-poisson        0.982276        0.947975   \n",
      "1                      SNN-MLP-ver6-poisson        0.980266        0.942629   \n",
      "2                      SNN-MLP-ver6-poisson        0.980723        0.944002   \n",
      "3                      SNN-MLP-ver6-poisson        0.982093        0.947955   \n",
      "4                      SNN-MLP-ver6-poisson        0.981362        0.945889   \n",
      "5                        SNN-MLP-ver6-burst        0.963227        0.890342   \n",
      "6                        SNN-MLP-ver6-burst        0.962450        0.889753   \n",
      "7                        SNN-MLP-ver6-burst        0.954548        0.870997   \n",
      "8                        SNN-MLP-ver6-burst        0.959024        0.880829   \n",
      "9                        SNN-MLP-ver6-burst        0.960577        0.884548   \n",
      "10                 SNN-MLP-ver6-TP-original        0.876570        0.678333   \n",
      "11                 SNN-MLP-ver6-TP-original        0.906537        0.731496   \n",
      "12                 SNN-MLP-ver6-TP-original        0.895071        0.705021   \n",
      "13                 SNN-MLP-ver6-TP-original        0.880270        0.691611   \n",
      "14                 SNN-MLP-ver6-TP-original        0.880956        0.667602   \n",
      "15                SNN-MLP-ver6-TP-learnable        0.942671        0.836226   \n",
      "16                SNN-MLP-ver6-TP-learnable        0.950756        0.859085   \n",
      "17                SNN-MLP-ver6-TP-learnable        0.943082        0.835793   \n",
      "18                SNN-MLP-ver6-TP-learnable        0.938468        0.825947   \n",
      "19                SNN-MLP-ver6-TP-learnable        0.936595        0.826933   \n",
      "20            SNN-MLP-ver6-TP-iter-one-fold        0.906674        0.760239   \n",
      "21            SNN-MLP-ver6-TP-iter-one-fold        0.923393        0.788338   \n",
      "22            SNN-MLP-ver6-TP-iter-one-fold        0.931205        0.811514   \n",
      "23            SNN-MLP-ver6-TP-iter-one-fold        0.905669        0.756515   \n",
      "24            SNN-MLP-ver6-TP-iter-one-fold        0.928966        0.804230   \n",
      "25         SNN-MLP-ver6-filter-CNN-IF-str16        0.981956        0.947480   \n",
      "26         SNN-MLP-ver6-filter-CNN-IF-str16        0.983007        0.949580   \n",
      "27         SNN-MLP-ver6-filter-CNN-IF-str16        0.982139        0.947720   \n",
      "28         SNN-MLP-ver6-filter-CNN-IF-str16        0.984286        0.953937   \n",
      "29         SNN-MLP-ver6-filter-CNN-IF-str16        0.982550        0.949134   \n",
      "30   SNN-MLP-ver6-filter-CNN-IF-str16-win64        0.983144        0.950898   \n",
      "31   SNN-MLP-ver6-filter-CNN-IF-str16-win64        0.983646        0.951186   \n",
      "32   SNN-MLP-ver6-filter-CNN-IF-str16-win64        0.985199        0.956673   \n",
      "33   SNN-MLP-ver6-filter-CNN-IF-str16-win64        0.983646        0.951933   \n",
      "34   SNN-MLP-ver6-filter-CNN-IF-str16-win64        0.982961        0.950194   \n",
      "35  SNN-MLP-ver6-filter-CNN-IF-channel-2048        0.982824        0.950106   \n",
      "36  SNN-MLP-ver6-filter-CNN-IF-channel-2048        0.983372        0.950664   \n",
      "37  SNN-MLP-ver6-filter-CNN-IF-channel-2048        0.981088        0.945440   \n",
      "38  SNN-MLP-ver6-filter-CNN-IF-channel-2048        0.980357        0.943747   \n",
      "39  SNN-MLP-ver6-filter-CNN-IF-channel-2048        0.982459        0.948759   \n",
      "\n",
      "    valid_AUROC_macro  valid_auprc  elapsed_time  \n",
      "0            0.964224     0.978722   5711.479004  \n",
      "1            0.964478     0.978311   5730.193848  \n",
      "2            0.965593     0.977720   5700.285645  \n",
      "3            0.967784     0.979998   5669.348633  \n",
      "4            0.966923     0.979453   5708.994629  \n",
      "5            0.924711     0.939260  11136.882812  \n",
      "6            0.929381     0.939016  11341.828125  \n",
      "7            0.929011     0.933850  11088.724609  \n",
      "8            0.927101     0.936760  11021.727539  \n",
      "9            0.927095     0.940760  11125.600586  \n",
      "10           0.828409     0.773160   8165.572266  \n",
      "11           0.840010     0.815473   8112.145508  \n",
      "12           0.828678     0.786880   8081.665039  \n",
      "13           0.840084     0.791255   8097.701172  \n",
      "14           0.806724     0.745396   8202.088867  \n",
      "15           0.905578     0.911871   8225.032227  \n",
      "16           0.919064     0.931971   8181.572754  \n",
      "17           0.902366     0.909664   8064.280273  \n",
      "18           0.902200     0.911393   8114.286621  \n",
      "19           0.913655     0.919142   8111.647949  \n",
      "20           0.887502     0.877057  12670.642578  \n",
      "21           0.885436     0.880186  12538.673828  \n",
      "22           0.902637     0.895600  12615.760742  \n",
      "23           0.883643     0.878494  12616.135742  \n",
      "24           0.896250     0.897094  12781.645508  \n",
      "25           0.966967     0.975771   4605.897461  \n",
      "26           0.961309     0.974007   4608.764160  \n",
      "27           0.965085     0.975524   4576.108887  \n",
      "28           0.968270     0.975477   4555.353027  \n",
      "29           0.967431     0.978713   4885.051758  \n",
      "30           0.968734     0.972790   4544.654785  \n",
      "31           0.960122     0.967227   4545.820312  \n",
      "32           0.970395     0.973506   4813.891113  \n",
      "33           0.966101     0.974010   4557.051758  \n",
      "34           0.967050     0.972085   4522.132812  \n",
      "35           0.969275     0.982411   5339.226562  \n",
      "36           0.961949     0.981318   5366.060547  \n",
      "37           0.968960     0.980889   5364.081055  \n",
      "38           0.970617     0.981008   5383.470703  \n",
      "39           0.966432     0.980226   5831.133301  \n"
     ]
    }
   ],
   "source": [
    "# CSV 파일 불러오기\n",
    "data = pd.read_csv(csv_dir)\n",
    "\n",
    "# 폴더명에서 시간 기록(yyyy-mm-dd-hh-mm-ss)을 추출하여 그룹화 키 추가\n",
    "def extract_time_key(source_dir):\n",
    "    return \"-\".join(source_dir.split(\"_\")[:-2])\n",
    "\n",
    "data['time_key'] = data['source_dir'].apply(extract_time_key)\n",
    "\n",
    "# metric에 해당하는 열만 추출 (acc, auroc, f1_score 같은 열)\n",
    "metric_data = data[['time_key'] + metric_columns]\n",
    "\n",
    "print(metric_data)\n",
    "\n",
    "# 시간 키 단위로 그룹화하여 평균과 표준편차차 계산\n",
    "grouped_metrics = metric_data.groupby('time_key').agg(['mean', 'std'])\n",
    "\n",
    "# 결과 출력\n",
    "# print(grouped_metrics)"
   ]
  },
  {
   "cell_type": "code",
   "execution_count": 4,
   "metadata": {},
   "outputs": [],
   "source": [
    "# 그룹화 결과에 그룹화 키를 열로 복구\n",
    "grouped_metrics_reset = grouped_metrics.reset_index()\n",
    "\n",
    "# CSV로 저장\n",
    "grouped_metrics_reset.to_csv(savefile_name, index=False)"
   ]
  }
 ],
 "metadata": {
  "kernelspec": {
   "display_name": "ecg_encoding",
   "language": "python",
   "name": "python3"
  },
  "language_info": {
   "codemirror_mode": {
    "name": "ipython",
    "version": 3
   },
   "file_extension": ".py",
   "mimetype": "text/x-python",
   "name": "python",
   "nbconvert_exporter": "python",
   "pygments_lexer": "ipython3",
   "version": "3.8.19"
  }
 },
 "nbformat": 4,
 "nbformat_minor": 2
}
