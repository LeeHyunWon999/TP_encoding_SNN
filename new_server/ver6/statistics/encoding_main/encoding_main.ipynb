{
 "cells": [
  {
   "cell_type": "markdown",
   "metadata": {},
   "source": [
    "정제한 데이터를 다시 이쪽에 맞게 정제한다."
   ]
  },
  {
   "cell_type": "code",
   "execution_count": 1,
   "metadata": {},
   "outputs": [],
   "source": [
    "# 사전 변수\n",
    "csv_dir = '/home/hschoi/leehyunwon/ECG-SNN/new_server/ver6/statistics/tensorboard_to_pandas/encoding_main_test.csv'\n",
    "savefile_name = 'encoding_refined_output_test.csv'"
   ]
  },
  {
   "cell_type": "code",
   "execution_count": 2,
   "metadata": {},
   "outputs": [],
   "source": [
    "import pandas as pd\n",
    "import seaborn as sns\n",
    "import matplotlib.pyplot as plt\n",
    "import numpy as np\n"
   ]
  },
  {
   "cell_type": "code",
   "execution_count": 3,
   "metadata": {},
   "outputs": [
    {
     "name": "stdout",
     "output_type": "stream",
     "text": [
      "                                 valid_Accuracy               valid_F1_micro  \\\n",
      "                                           mean           var           mean   \n",
      "time_key                                                                       \n",
      "SNN-MLP-ver6-TP-iter-one-fold          0.919181  1.492653e-04       0.784167   \n",
      "SNN-MLP-ver6-TP-learnable              0.942314  2.987103e-05       0.836797   \n",
      "SNN-MLP-ver6-TP-original               0.887881  1.583886e-04       0.694813   \n",
      "SNN-MLP-ver6-burst                     0.959965  1.185651e-05       0.883294   \n",
      "SNN-MLP-ver6-filter-CNN-IF-str16       0.982787  8.653706e-07       0.949570   \n",
      "SNN-MLP-ver6-poisson                   0.981344  7.445651e-07       0.945690   \n",
      "\n",
      "                                           valid_AUROC_macro            \\\n",
      "                                       var              mean       var   \n",
      "time_key                                                                 \n",
      "SNN-MLP-ver6-TP-iter-one-fold     0.000626          0.891094  0.000065   \n",
      "SNN-MLP-ver6-TP-learnable         0.000178          0.908573  0.000056   \n",
      "SNN-MLP-ver6-TP-original          0.000618          0.828781  0.000185   \n",
      "SNN-MLP-ver6-burst                0.000063          0.927460  0.000003   \n",
      "SNN-MLP-ver6-filter-CNN-IF-str16  0.000007          0.965813  0.000008   \n",
      "SNN-MLP-ver6-poisson              0.000006          0.965801  0.000002   \n",
      "\n",
      "                                 valid_auprc                \n",
      "                                        mean           var  \n",
      "time_key                                                    \n",
      "SNN-MLP-ver6-TP-iter-one-fold       0.885686  9.622168e-05  \n",
      "SNN-MLP-ver6-TP-learnable           0.916808  8.502225e-05  \n",
      "SNN-MLP-ver6-TP-original            0.782433  6.617406e-04  \n",
      "SNN-MLP-ver6-burst                  0.937929  7.241910e-06  \n",
      "SNN-MLP-ver6-filter-CNN-IF-str16    0.975898  2.957885e-06  \n",
      "SNN-MLP-ver6-poisson                0.978841  8.159776e-07  \n"
     ]
    }
   ],
   "source": [
    "# CSV 파일 불러오기\n",
    "data = pd.read_csv(csv_dir)\n",
    "\n",
    "# 폴더명에서 시간 기록(yyyy-mm-dd-hh-mm-ss)을 추출하여 그룹화 키 추가\n",
    "def extract_time_key(source_dir):\n",
    "    return \"-\".join(source_dir.split(\"_\")[:-2])\n",
    "\n",
    "data['time_key'] = data['source_dir'].apply(extract_time_key)\n",
    "\n",
    "# metric에 해당하는 열만 추출 (acc, auroc, f1_score 같은 열)\n",
    "metric_columns = ['valid_Accuracy','valid_F1_micro', 'valid_AUROC_macro', 'valid_auprc']  # 필요한 metric 열 이름 지정\n",
    "metric_data = data[['time_key'] + metric_columns]\n",
    "\n",
    "# 시간 키 단위로 그룹화하여 평균과 분산 계산\n",
    "grouped_metrics = metric_data.groupby('time_key').agg(['mean', 'var'])\n",
    "\n",
    "# 결과 출력\n",
    "print(grouped_metrics)"
   ]
  },
  {
   "cell_type": "code",
   "execution_count": 4,
   "metadata": {},
   "outputs": [],
   "source": [
    "# 그룹화 결과에 그룹화 키를 열로 복구\n",
    "grouped_metrics_reset = grouped_metrics.reset_index()\n",
    "\n",
    "# CSV로 저장\n",
    "grouped_metrics_reset.to_csv(savefile_name, index=False)"
   ]
  }
 ],
 "metadata": {
  "kernelspec": {
   "display_name": "ecg_encoding",
   "language": "python",
   "name": "python3"
  },
  "language_info": {
   "codemirror_mode": {
    "name": "ipython",
    "version": 3
   },
   "file_extension": ".py",
   "mimetype": "text/x-python",
   "name": "python",
   "nbconvert_exporter": "python",
   "pygments_lexer": "ipython3",
   "version": "3.8.19"
  }
 },
 "nbformat": 4,
 "nbformat_minor": 2
}
